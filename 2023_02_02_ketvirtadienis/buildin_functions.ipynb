{
 "cells": [
  {
   "attachments": {},
   "cell_type": "markdown",
   "metadata": {},
   "source": [
    "<p style = color:brown>Lesson 4: Python built in functions</p>\n",
    "<p style = color:green>print()  kode negali jo likti!</p>"
   ]
  },
  {
   "attachments": {},
   "cell_type": "markdown",
   "metadata": {},
   "source": [
    "(function) print(*values: object, sep: str | None = ..., end: str | None = ..., file: SupportsWrite[str] | None = ..., flush: Literal[False] = ...) -> None\n",
    "print(value, ..., sep=' ', end='\\n', file=sys.stdout, flush=False)\n",
    "\n",
    "Prints the values to a stream, or to sys.stdout by default. Optional keyword arguments:\n",
    "file: a file-like object (stream); defaults to the current sys.stdout.\n",
    "sep: string inserted between values, default a space.\n",
    "end: string appended after the last value, default a newline.\n",
    "flush: whether to forcibly flush the stream."
   ]
  },
  {
   "cell_type": "code",
   "execution_count": null,
   "metadata": {},
   "outputs": [],
   "source": [
    "print(\"Hello World!\")\n",
    "\n",
    "print(\"hello\", \"world\")\n",
    "\n",
    "print(*[\"Hello World!\"])\n",
    "\n",
    "print(\"Hello\", \"World!\", sep=\",\")\n",
    "\n",
    "sentence = \"baba\"\n",
    "print(sentence == 'baba')   # tikrinama ar sentence yra lygi"
   ]
  },
  {
   "attachments": {},
   "cell_type": "markdown",
   "metadata": {},
   "source": [
    "<p style = color:green>type()</p>"
   ]
  },
  {
   "cell_type": "code",
   "execution_count": null,
   "metadata": {},
   "outputs": [],
   "source": [
    "greet = \"Hello World\"\n",
    "print(type(greet))"
   ]
  },
  {
   "attachments": {},
   "cell_type": "markdown",
   "metadata": {},
   "source": [
    "<p style = color:green>len()</p>"
   ]
  },
  {
   "cell_type": "code",
   "execution_count": null,
   "metadata": {},
   "outputs": [],
   "source": [
    "word = \"something\"\n",
    "length = len(word)\n",
    "\n",
    "print(f\"length of the word {word} is: {length}\")"
   ]
  },
  {
   "cell_type": "code",
   "execution_count": null,
   "metadata": {},
   "outputs": [],
   "source": [
    "my_list = [1, 2, 3]\n",
    "\n",
    "print(f\"length of the list {my_list} is: {len(my_list)}\")"
   ]
  },
  {
   "attachments": {},
   "cell_type": "markdown",
   "metadata": {},
   "source": [
    "<p style = color:green>round()</p>"
   ]
  },
  {
   "cell_type": "code",
   "execution_count": null,
   "metadata": {},
   "outputs": [],
   "source": [
    "print(round(1.999))\n",
    "\n",
    "print(round(1.5555, 2))"
   ]
  },
  {
   "attachments": {},
   "cell_type": "markdown",
   "metadata": {},
   "source": [
    "<p style = color:green>sorted</p>"
   ]
  },
  {
   "attachments": {},
   "cell_type": "markdown",
   "metadata": {},
   "source": [
    "(function) sorted(__iterable: Iterable[SupportsRichComparisonT@sorted], *, key: None = ..., reverse: bool = ...) -> list[SupportsRichComparisonT@sorted]\n",
    "Return a new list containing all items from the iterable in ascending order.\n",
    "\n",
    "A custom key function can be supplied to customize the sort order, and the reverse flag can be set to request the result in descending order."
   ]
  },
  {
   "cell_type": "code",
   "execution_count": null,
   "metadata": {},
   "outputs": [],
   "source": [
    "my_list = [45, 20, 14, 55]\n",
    "sorted_list = sorted(my_list)\n",
    "\n",
    "print(sorted_list)\n",
    "\n",
    "sorted_reverse_list = sorted(my_list, reverse=True)\n",
    "\n",
    "print(sorted_reverse_list)"
   ]
  },
  {
   "cell_type": "code",
   "execution_count": null,
   "metadata": {},
   "outputs": [],
   "source": [
    "my_list = [\"Albert\", \"Nicola\", \"Thomas\"]\n",
    "sorted_list = sorted(my_list)\n",
    "\n",
    "print(sorted_list)\n",
    "\n",
    "sorted_reverse_list = sorted(my_list, reverse=True)\n",
    "\n",
    "print(sorted_reverse_list)"
   ]
  },
  {
   "attachments": {},
   "cell_type": "markdown",
   "metadata": {},
   "source": [
    "Pratimas\n",
    "Create a console application wich takes a sentence of at least 10 words\n",
    "- print words in reverse order\n",
    "- calculate how many items are in thw sentence. Doest include empty spaces"
   ]
  },
  {
   "cell_type": "code",
   "execution_count": null,
   "metadata": {},
   "outputs": [],
   "source": [
    "# TODO pabandyti išspręsti\n",
    "sentence = input(\"Please input sentence at least 10 words: \")\n",
    "\n",
    "print(sorted(sentence, reverse=True))\n",
    "print(len(sentence))"
   ]
  },
  {
   "attachments": {},
   "cell_type": "markdown",
   "metadata": {},
   "source": [
    "Create a list of different types of python objects, and print all the types. The one who gets the the most unique types wins respect points:"
   ]
  },
  {
   "cell_type": "code",
   "execution_count": null,
   "metadata": {},
   "outputs": [],
   "source": [
    "# 1\n",
    "\n",
    "my_list = [\"baba\", 1.0, 45, True]\n",
    "print(\"---Exercise 1 : ---\")\n",
    "for i in my_list:\n",
    "    print(type(i))\n",
    "\n",
    "# 2\n",
    "\n",
    "print(\"---Exercise 2 : ---\")\n",
    "for i in my_list:\n",
    "    print(i, end='|')\n",
    "print()\n",
    "print(* my_list, sep='|') # * išpakuoja listą, iteruoja greituoju budu. Greitas būdas!\n",
    "\n",
    "# 3\n",
    "\n",
    "print(\"---Exercise 3---\")\n",
    "\n",
    "my_list = [1.254, 56.854, 8.568]\n",
    "\n",
    "my_list_rounded = []\n",
    "\n",
    "for item in my_list:\n",
    "    my_list_rounded.append(round(item,2))\n",
    "\n",
    "print(my_list)\n",
    "print(my_list_rounded)\n",
    "\n",
    "# 4\n",
    "print(\"---Exercise 4---\")\n",
    "\n",
    "my_list = ['Darius', 'Marius', 'Giedrius', 'Laurynas', 'Arminas']\n",
    "\n",
    "print(sorted(my_list))\n",
    "\n",
    "# 5\n",
    "print(\"---Exercise 5---\")\n",
    "\n",
    "x, y = input(\"Please input float number and round value\").split(',')\n",
    "\n",
    "print(round(float(x), int(y)))\n",
    "\n",
    "\n"
   ]
  },
  {
   "attachments": {},
   "cell_type": "markdown",
   "metadata": {},
   "source": [
    "# Create a program which would take 5 separate sentences containing 5 words.\n",
    "# Make those sentences in separate lists and sort them out (reverse=False)\n",
    "# Create 5 five new lists what would contain first, second  indexed elements from those lists. (first list containing\n",
    "# all first elements of those five, second list second elements and so on).\n",
    "# print the length of all list items and print the longest lenght list and shortest."
   ]
  },
  {
   "cell_type": "code",
   "execution_count": 77,
   "metadata": {},
   "outputs": [
    {
     "name": "stdout",
     "output_type": "stream",
     "text": [
      "28\n",
      "[2, 4, 5, 3, 2, 2, 3, 4, 1, 2]\n"
     ]
    }
   ],
   "source": [
    "# 1 START -> Create a program which would take 5 separate sentences containing 5 words.\n",
    "\n",
    "inpt_one = sorted(input(\"Please write first sentence with 5 words:\").split(), reverse=True)\n",
    "inpt_two = sorted(input(\"Please write second sentence with 5 words:\").split(), reverse=True)\n",
    "inpt_three = sorted(input(\"Please write third sentence with 5 words:\").split(), reverse=True)# TODO:   uncomment\n",
    "inpt_four = sorted(input(\"Please write fourth sentence with 5 words:\").split(), reverse=True)\n",
    "inpt_five = sorted(input(\"Please write fifth sentence with 5 words:\").split(),reverse=True)\n",
    "\n",
    "# -< END 1\n",
    "\n",
    "# 2 START -> Make those sentences in separate lists and sort them out (reverse=False)\n",
    "\n",
    "list_n_separated = [inpt_one, inpt_two, inpt_three, inpt_four, inpt_five] # TODO: add aditional inputs\n",
    "\n",
    "list_one = []\n",
    "list_two = []\n",
    "list_three = []\n",
    "list_four = []\n",
    "list_five = []\n",
    "\n",
    "for item in list_n_separated[0]:    # loop kad gražiau atrodytų sąrašas, kad būtų 5 elementai\n",
    "    list_one.append(item)\n",
    "\n",
    "for item in list_n_separated[1]:\n",
    "    list_two.append(item)\n",
    "\n",
    "for item in list_n_separated[2]:\n",
    "    list_three.append(item)\n",
    "\n",
    "for item in list_n_separated[3]:\n",
    "    list_four.append(item)\n",
    "\n",
    "for item in list_n_separated[4]:\n",
    "    list_five.append(item)\n",
    "\n",
    "# -< END 2\n",
    "\n",
    "# 3 START -> Create 5 five new lists what would contain first, second  indexed elements from those lists. (first list containing\n",
    "# all first elements of those five, second list second elements and so on).\n",
    "\n",
    "list_one_new = [list_one[0], list_two[0], list_three[0], list_four[0], list_five[0]]\n",
    "list_two_new = [list_one[1], list_two[1], list_three[1], list_four[1], list_five[1]]\n",
    "list_three_new = [list_one[2], list_two[2], list_three[2], list_four[2], list_five[2]]\n",
    "list_four_new = [list_one[3], list_two[3], list_three[3], list_four[3], list_five[3]]\n",
    "list_five_new = [list_one[4], list_two[4], list_three[4], list_four[4], list_five[4]]\n",
    "\n",
    "a = 0\n",
    "\n",
    "list_sum = []\n",
    "\n",
    "for item in list_one_new:\n",
    "    a = len(item)\n",
    "    list_sum.append(a)\n",
    "\n",
    "for item in list_two_new:\n",
    "    a = len(item)\n",
    "    list_sum.append(a)\n",
    "\n",
    "print(sum(list_sum))\n",
    "# -< END 3\n",
    "\n",
    "# 4  START  -> print the length of all list items and print the longest lenght list and shortest.\n",
    "\n",
    "\n",
    "print(list_sum)\n",
    "# -< END 4"
   ]
  },
  {
   "cell_type": "code",
   "execution_count": 69,
   "metadata": {},
   "outputs": [
    {
     "name": "stdout",
     "output_type": "stream",
     "text": [
      "2\n",
      "3\n",
      "5\n",
      "4\n",
      "5\n",
      "19\n"
     ]
    }
   ],
   "source": [
    "list_a = ['as', 'esu', 'geras', 'turš', 'namas']\n",
    "list_sum = []\n",
    "a = 0\n",
    "for item in list_a:\n",
    "    list_sum.apend(lena)\n",
    "    a =len(item) + a\n",
    "print(a)"
   ]
  }
 ],
 "metadata": {
  "kernelspec": {
   "display_name": "Python 3",
   "language": "python",
   "name": "python3"
  },
  "language_info": {
   "codemirror_mode": {
    "name": "ipython",
    "version": 3
   },
   "file_extension": ".py",
   "mimetype": "text/x-python",
   "name": "python",
   "nbconvert_exporter": "python",
   "pygments_lexer": "ipython3",
   "version": "3.10.6"
  },
  "orig_nbformat": 4,
  "vscode": {
   "interpreter": {
    "hash": "916dbcbb3f70747c44a77c7bcd40155683ae19c65e1c03b4aa3499c5328201f1"
   }
  }
 },
 "nbformat": 4,
 "nbformat_minor": 2
}
