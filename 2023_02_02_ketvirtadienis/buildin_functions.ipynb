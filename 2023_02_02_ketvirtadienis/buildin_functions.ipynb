{
 "cells": [
  {
   "attachments": {},
   "cell_type": "markdown",
   "metadata": {},
   "source": [
    "<p style = color:brown>Lesson 4: Python built in functions</p>\n",
    "<p style = color:green>print()  kode negali jo likti!</p>"
   ]
  },
  {
   "attachments": {},
   "cell_type": "markdown",
   "metadata": {},
   "source": [
    "(function) print(*values: object, sep: str | None = ..., end: str | None = ..., file: SupportsWrite[str] | None = ..., flush: Literal[False] = ...) -> None\n",
    "print(value, ..., sep=' ', end='\\n', file=sys.stdout, flush=False)\n",
    "\n",
    "Prints the values to a stream, or to sys.stdout by default. Optional keyword arguments:\n",
    "file: a file-like object (stream); defaults to the current sys.stdout.\n",
    "sep: string inserted between values, default a space.\n",
    "end: string appended after the last value, default a newline.\n",
    "flush: whether to forcibly flush the stream."
   ]
  },
  {
   "cell_type": "code",
   "execution_count": null,
   "metadata": {},
   "outputs": [],
   "source": [
    "print(\"Hell World!\")\n",
    "\n",
    "\n"
   ]
  }
 ],
 "metadata": {
  "kernelspec": {
   "display_name": "CA",
   "language": "python",
   "name": "python3"
  },
  "language_info": {
   "codemirror_mode": {
    "name": "ipython",
    "version": 3
   },
   "file_extension": ".py",
   "mimetype": "text/x-python",
   "name": "python",
   "nbconvert_exporter": "python",
   "pygments_lexer": "ipython3",
   "version": "3.10.6"
  },
  "orig_nbformat": 4,
  "vscode": {
   "interpreter": {
    "hash": "7b9b1854771a17f0a04b6bb15075bbf17a502512d3fd688e04baea32a0559fb0"
   }
  }
 },
 "nbformat": 4,
 "nbformat_minor": 2
}
