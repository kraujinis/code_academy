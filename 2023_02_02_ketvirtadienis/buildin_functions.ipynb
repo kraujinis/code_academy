{
 "cells": [
  {
   "attachments": {},
   "cell_type": "markdown",
   "metadata": {},
   "source": [
    "<p style = color:brown>Lesson 4: Python built in functions</p>\n",
    "<p style = color:green>print()  kode negali jo likti!</p>"
   ]
  },
  {
   "attachments": {},
   "cell_type": "markdown",
   "metadata": {},
   "source": [
    "(function) print(*values: object, sep: str | None = ..., end: str | None = ..., file: SupportsWrite[str] | None = ..., flush: Literal[False] = ...) -> None\n",
    "print(value, ..., sep=' ', end='\\n', file=sys.stdout, flush=False)\n",
    "\n",
    "Prints the values to a stream, or to sys.stdout by default. Optional keyword arguments:\n",
    "file: a file-like object (stream); defaults to the current sys.stdout.\n",
    "sep: string inserted between values, default a space.\n",
    "end: string appended after the last value, default a newline.\n",
    "flush: whether to forcibly flush the stream."
   ]
  },
  {
   "cell_type": "code",
   "execution_count": null,
   "metadata": {},
   "outputs": [],
   "source": [
    "print(\"Hello World!\")\n",
    "\n",
    "print(\"hello\", \"world\")\n",
    "\n",
    "print(*[\"Hello World!\"])\n",
    "\n",
    "print(\"Hello\", \"World!\", sep=\",\")\n",
    "\n",
    "sentence = \"baba\"\n",
    "print(sentence == 'baba')   # tikrinama ar sentence yra lygi"
   ]
  },
  {
   "attachments": {},
   "cell_type": "markdown",
   "metadata": {},
   "source": [
    "<p style = color:green>type()</p>"
   ]
  },
  {
   "cell_type": "code",
   "execution_count": null,
   "metadata": {},
   "outputs": [],
   "source": [
    "greet = \"Hello World\"\n",
    "print(type(greet))"
   ]
  },
  {
   "attachments": {},
   "cell_type": "markdown",
   "metadata": {},
   "source": [
    "<p style = color:green>len()</p>"
   ]
  },
  {
   "cell_type": "code",
   "execution_count": null,
   "metadata": {},
   "outputs": [],
   "source": [
    "word = \"something\"\n",
    "length = len(word)\n",
    "\n",
    "print(f\"length of the word {word} is: {length}\")"
   ]
  },
  {
   "cell_type": "code",
   "execution_count": null,
   "metadata": {},
   "outputs": [],
   "source": [
    "my_list = [1, 2, 3]\n",
    "\n",
    "print(f\"length of the list {my_list} is: {len(my_list)}\")"
   ]
  },
  {
   "attachments": {},
   "cell_type": "markdown",
   "metadata": {},
   "source": [
    "<p style = color:green>round()</p>"
   ]
  },
  {
   "cell_type": "code",
   "execution_count": null,
   "metadata": {},
   "outputs": [],
   "source": [
    "print(round(1.999))\n",
    "\n",
    "print(round(1.5555, 2))"
   ]
  },
  {
   "attachments": {},
   "cell_type": "markdown",
   "metadata": {},
   "source": [
    "<p style = color:green>sorted</p>"
   ]
  },
  {
   "attachments": {},
   "cell_type": "markdown",
   "metadata": {},
   "source": [
    "(function) sorted(__iterable: Iterable[SupportsRichComparisonT@sorted], *, key: None = ..., reverse: bool = ...) -> list[SupportsRichComparisonT@sorted]\n",
    "Return a new list containing all items from the iterable in ascending order.\n",
    "\n",
    "A custom key function can be supplied to customize the sort order, and the reverse flag can be set to request the result in descending order."
   ]
  },
  {
   "cell_type": "code",
   "execution_count": null,
   "metadata": {},
   "outputs": [],
   "source": [
    "my_list = [45, 20, 14, 55]\n",
    "sorted_list = sorted(my_list)\n",
    "\n",
    "print(sorted_list)\n",
    "\n",
    "sorted_reverse_list = sorted(my_list, reverse=True)\n",
    "\n",
    "print(sorted_reverse_list)"
   ]
  },
  {
   "cell_type": "code",
   "execution_count": null,
   "metadata": {},
   "outputs": [],
   "source": [
    "my_list = [\"Albert\", \"Nicola\", \"Thomas\"]\n",
    "sorted_list = sorted(my_list)\n",
    "\n",
    "print(sorted_list)\n",
    "\n",
    "sorted_reverse_list = sorted(my_list, reverse=True)\n",
    "\n",
    "print(sorted_reverse_list)"
   ]
  },
  {
   "attachments": {},
   "cell_type": "markdown",
   "metadata": {},
   "source": [
    "Pratimas\n",
    "Create a console application wich takes a sentence of at least 10 words\n",
    "- print words in reverse order\n",
    "- calculate how many items are in thw sentence. Doest include empty spaces"
   ]
  },
  {
   "cell_type": "code",
   "execution_count": null,
   "metadata": {},
   "outputs": [],
   "source": [
    "# TODO pabandyti išspręsti\n",
    "sentence = input(\"Please input sentence at least 10 words: \")\n",
    "\n",
    "print(sorted(sentence, reverse=True))\n",
    "print(len(sentence))"
   ]
  },
  {
   "attachments": {},
   "cell_type": "markdown",
   "metadata": {},
   "source": [
    "Create a list of different types of python objects, and print all the types. The one who gets the the most unique types wins respect points:"
   ]
  },
  {
   "cell_type": "code",
   "execution_count": null,
   "metadata": {},
   "outputs": [],
   "source": [
    "# 1\n",
    "\n",
    "my_list = [\"baba\", 1.0, 45, True]\n",
    "print(\"---Exercise 1 : ---\")\n",
    "for i in my_list:\n",
    "    print(type(i))\n",
    "\n",
    "# 2\n",
    "\n",
    "print(\"---Exercise 2 : ---\")\n",
    "for i in my_list:\n",
    "    print(i, end='|')\n",
    "print()\n",
    "print(* my_list, sep='|') # * išpakuoja listą, iteruoja greituoju budu. Greitas būdas!\n",
    "\n",
    "# 3\n",
    "\n",
    "print(\"---Exercise 3---\")\n",
    "\n",
    "my_list = [1.254, 56.854, 8.568]\n",
    "\n",
    "my_list_rounded = []\n",
    "\n",
    "for item in my_list:\n",
    "    my_list_rounded.append(round(item,2))\n",
    "\n",
    "print(my_list)\n",
    "print(my_list_rounded)\n",
    "\n",
    "# 4\n",
    "print(\"---Exercise 4---\")\n",
    "\n",
    "my_list = ['Darius', 'Marius', 'Giedrius', 'Laurynas', 'Arminas']\n",
    "\n",
    "print(sorted(my_list))\n",
    "\n",
    "# 5\n",
    "print(\"---Exercise 5---\")\n",
    "\n",
    "x, y = input(\"Please input float number and round value\").split(',')\n",
    "\n",
    "print(round(float(x), int(y)))\n",
    "\n",
    "\n"
   ]
  },
  {
   "attachments": {},
   "cell_type": "markdown",
   "metadata": {},
   "source": [
    "# Create a program which would take 5 separate sentences containing 5 words.\n",
    "# Make those sentences in separate lists and sort them out (reverse=False)\n",
    "# Create 5 five new lists what would contain first, second  indexed elements from those lists. (first list containing\n",
    "# all first elements of those five, second list second elements and so on).\n",
    "# print the length of all list items and print the longest lenght list and shortest."
   ]
  },
  {
   "cell_type": "code",
   "execution_count": 63,
   "metadata": {},
   "outputs": [
    {
     "name": "stdout",
     "output_type": "stream",
     "text": [
      "[['ada', 'adad', 'adad', 'ada', 'adad']]\n",
      "1\n"
     ]
    }
   ],
   "source": [
    "inpt_one = input(\"Please write first sentence with 5 words:\").split()\n",
    "# inpt_two = input(\"Please write second sentence with 5 words:\")\n",
    "# inpt_three = input(\"Please write third sentence with 5 words:\")\n",
    "# inpt_for = input(\"Please write fourth sentence with 5 words:\")\n",
    "# inpt_five = input(\"Please write fifth sentence with 5 words:\")\n",
    "\n",
    "list_one = []\n",
    "\n",
    "# list_two = []\n",
    "# list_three = []\n",
    "# list_four = []\n",
    "# list_five = []\n",
    "\n",
    "list_one.append(inpt_one)\n",
    "# list_two.append(inpt_two)\n",
    "# list_three.append(inpt_three)\n",
    "# list_four.append(list_four)\n",
    "# list_five.append(inpt_five)\n",
    "\n",
    "print(list_one)\n",
    "print(len(list_one))"
   ]
  }
 ],
 "metadata": {
  "kernelspec": {
   "display_name": "CA",
   "language": "python",
   "name": "python3"
  },
  "language_info": {
   "codemirror_mode": {
    "name": "ipython",
    "version": 3
   },
   "file_extension": ".py",
   "mimetype": "text/x-python",
   "name": "python",
   "nbconvert_exporter": "python",
   "pygments_lexer": "ipython3",
   "version": "3.10.6"
  },
  "orig_nbformat": 4,
  "vscode": {
   "interpreter": {
    "hash": "7b9b1854771a17f0a04b6bb15075bbf17a502512d3fd688e04baea32a0559fb0"
   }
  }
 },
 "nbformat": 4,
 "nbformat_minor": 2
}
