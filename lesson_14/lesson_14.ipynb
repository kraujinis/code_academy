{
 "cells": [
  {
   "attachments": {},
   "cell_type": "markdown",
   "metadata": {},
   "source": [
    "# Lesson 14: Logging\n",
    "***\n",
    "Logging library\n",
    "***\n",
    "Logging is a very useful tool in a programmer’s toolbox. It can help you develop a better understanding of the flow of a program and discover scenarios that you might not even have thought of while developing.\n",
    "\n",
    "By logging useful data from the right places, you can not only debug errors easily but also use the data to analyze the performance of the application to plan for scaling or look at usage patterns to plan for marketing.\n",
    "\n",
    "The logging module in Python is a ready-to-use and powerful module that is designed to meet the needs of beginners as well as enterprise teams. It is used by most of the third-party Python libraries, so you can integrate your log messages with the ones from those libraries to produce a homogeneous log for your application.\n",
    "\n",
    "## Import the library:\n",
    "import logging\n",
    "\n",
    "## Logging vs Print Statement\n",
    "Logging and Print both can be used to debug the code but still, there are reasons for you to choose log over print().\n",
    "\n",
    "A Log file contains a log message with other information such as line number, module name, date, time, etc. On the other hand, a print statement only has a log message.\n",
    "\n",
    "A Log file will save the records of the application even after it is closed but a print statement will lose out all the records and log message just after the execution stops.\n",
    "\n",
    "The only time when you should consider using a print() statement over a log is when you need to display a help statement on the command line.\n",
    "\n",
    "## Logging\n",
    "There are five ways we can display a log message in python with setting log levels: **DEBUG**, **INFO**, **WARNING**, **ERROR**, and **CRITICAL**."
   ]
  },
  {
   "cell_type": "code",
   "execution_count": null,
   "metadata": {},
   "outputs": [],
   "source": [
    "import logging\n",
    "\n",
    "logging.debug('This is a debug message')\n",
    "logging.info('This is an info message')\n",
    "logging.warning('This is a warning message')\n",
    "logging.error('This is an error message')\n",
    "logging.critical('This is a critical message')\n",
    "\n",
    "# -------------------OUTPUT---------------------\n",
    "WARNING:root:This is a warning message\n",
    "ERROR:root:This is an error message\n",
    "CRITICAL:root:This is a critical message"
   ]
  },
  {
   "attachments": {},
   "cell_type": "markdown",
   "metadata": {},
   "source": [
    "In the code output above, there are two things to notice:\n",
    "\n",
    "- The root is the default logger for all the logs.\n",
    "- There are only three log messages printed. The reason behind this is the severity level of log messages and messages higher than or equal to the severity level of WARNING will only get printed.\n",
    "## The Five Levels of Logging\n",
    "- DEBUG: It is used for diagnosing the problem. It gives a piece of detailed information about the problem. The severity level is 10.\n",
    "- INFO: It gives the confirmation message of the successful execution of the program. The severity level is 20.\n",
    "- WARNING: The message is for when an unexpected situation occurs. The severity level is 30.\n",
    "- ERROR: It is due to a more serious problem than a warning. It can be due to some inbuilt error Like syntax or logical error. The severity level is 40.\n",
    "- CRITICAL: It occurs when the program execution stops and it can not run itself anymore. The severity level is 50.\n",
    "\n",
    "## basicConfig\n",
    "\n",
    "We can print the DEBUG and INFO messages too by changing the basic configuration of the logger with the help of basicConfig(**kwargs). There are some parameters that are commonly used in this:\n",
    "\n",
    "- level: To change the root logger to a specified severity level.\n",
    "- filename: Filename where the logs going to be stored.\n",
    "- filemode: If a filename is given then this specifies the file mode in\n",
    "- which the file will open. default is append (a )\n",
    "- format: This is the format of the log message.\n",
    "- datefmt : It specified the date and time format.\n",
    "Simple example:"
   ]
  },
  {
   "cell_type": "code",
   "execution_count": null,
   "metadata": {},
   "outputs": [],
   "source": [
    "import logging\n",
    "logging.basicConfig(level=logging.DEBUG, format='%(asctime)s - %(name)s - %(levelname)s - %(message)s', datefmt='%d/%m/%Y %H:%M:%S')\n",
    "logging.debug('This is Debug Message')\n",
    "logging.info('This is an info message')\n",
    "# -------------------------CONSOLE OUTPUT------------------\n",
    "12/05/2021 20:46:41 - root - DEBUG - This is Debug Message\n",
    "12/05/2021 20:46:41 - root - INFO - This is an info message"
   ]
  },
  {
   "attachments": {},
   "cell_type": "markdown",
   "metadata": {},
   "source": [
    "## Logging to file\n",
    "Similarly, for logging the result** in a file** you can add filename and file mode to `basicConfig`:"
   ]
  },
  {
   "cell_type": "code",
   "execution_count": null,
   "metadata": {},
   "outputs": [],
   "source": [
    "logging.basicConfig(level=logging.DEBUG,filename='data.log', filemode='w')"
   ]
  },
  {
   "cell_type": "code",
   "execution_count": null,
   "metadata": {},
   "outputs": [],
   "source": [
    "import logging\n",
    "logging.basicConfig(level=logging.DEBUG,filename='data.log', filemode='a', format='%(asctime)s - %(name)s - %(levelname)s - %(message)s', datefmt='%d/%m/%Y %H:%M:%S')\n",
    "name = input(\"Enter Your Name:\\n\")\n",
    "logging.info(f\"{name} has logged in successfully !!\")\n",
    "\n",
    "# -----------------data.log file output-------------\n",
    "12/05/2021 21:01:37 - root - INFO - Tom has logged in successfully !!\n",
    "12/05/2021 21:02:47 - root - INFO - Karl has logged in successfully !!\n",
    "12/05/2021 21:03:27 - root - INFO - Rahul has logged in successfully !!"
   ]
  },
  {
   "attachments": {},
   "cell_type": "markdown",
   "metadata": {},
   "source": [
    "## Logging Exception\n",
    "The `logging module` can also able to trace and showcase *full* exceptional errors that occur during the execution of the program. With the help of `exc_info` with set argument as `True`:"
   ]
  },
  {
   "cell_type": "code",
   "execution_count": null,
   "metadata": {},
   "outputs": [],
   "source": [
    "import logging\n",
    "a = 10\n",
    "b = 0\n",
    "try:\n",
    "  c = a / b\n",
    "except Exception as e:\n",
    "  logging.error(\"Exception Occurred\", exc_info=True)  ## At default it is True\n",
    "  \n",
    " # ----------------------------------CONSOLE OUTPUT------------------------\n",
    "ERROR:root:Exception Occurred        ## If exc_info=False then only this message will print\n",
    "Traceback (most recent call last):\n",
    "  File \"C:\\Users\\minde\\Desktop\\ds\\python\\advance_concepts\\logging_code.py\", line 5, in <module>\n",
    "    c = a / b\n",
    "ZeroDivisionError: division by zero"
   ]
  }
 ],
 "metadata": {
  "kernelspec": {
   "display_name": "CA",
   "language": "python",
   "name": "python3"
  },
  "language_info": {
   "name": "python",
   "version": "3.10.6"
  },
  "orig_nbformat": 4,
  "vscode": {
   "interpreter": {
    "hash": "7b9b1854771a17f0a04b6bb15075bbf17a502512d3fd688e04baea32a0559fb0"
   }
  }
 },
 "nbformat": 4,
 "nbformat_minor": 2
}
