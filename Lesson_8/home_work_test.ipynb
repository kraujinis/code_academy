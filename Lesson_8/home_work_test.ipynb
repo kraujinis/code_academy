{
 "cells": [
  {
   "cell_type": "code",
   "execution_count": 8,
   "metadata": {},
   "outputs": [
    {
     "name": "stdout",
     "output_type": "stream",
     "text": [
      "['qnrmaefgljpbd', 'jrmfok', 'ljkfbocihqerpn', 'knhjofilmaqegd', 'dgqolecbnmprkf']\n"
     ]
    }
   ],
   "source": [
    "import random\n",
    "\n",
    "# START 1 --> create 5 lists with diferent 5 words\n",
    "\n",
    "letter_list = ['a', 'b', 'c', 'd', 'e', 'f',\n",
    "                'g','h', 'i', 'j', 'k', 'l',\n",
    "                'm', 'n', 'o', 'p', 'q', 'r']\n",
    "\n",
    "\n",
    "letter_list_1 = []\n",
    "letter_list_2 = []\n",
    "letter_list_3 = []\n",
    "letter_list_4 = []\n",
    "letter_list_5 = []\n",
    "\n",
    "for _ in range(0, 5):   # sukuriamas ciklas iš 5 kad sukurti 5 kintamuosius sąraše (liste)\n",
    "    # kiekvienakart paimama iš raidžių sąrašo nuo 5 iki atsitiktinio skaičiaus (random) (15)\n",
    "    letter_random = random.sample(letter_list, random.randint(5, 15))   # take random letters (lengt random)\n",
    "    # paimtos raidės sujungiumas į vieną žodį ir pridedamas žodis į sąrašą (list)\n",
    "    letter_list_1.append(''.join(letter_random))   # join and append letters to list\n",
    "\n",
    "print(letter_list_1)\n",
    "\n"
   ]
  }
 ],
 "metadata": {
  "kernelspec": {
   "display_name": "CA",
   "language": "python",
   "name": "python3"
  },
  "language_info": {
   "codemirror_mode": {
    "name": "ipython",
    "version": 3
   },
   "file_extension": ".py",
   "mimetype": "text/x-python",
   "name": "python",
   "nbconvert_exporter": "python",
   "pygments_lexer": "ipython3",
   "version": "3.10.6"
  },
  "orig_nbformat": 4,
  "vscode": {
   "interpreter": {
    "hash": "53e861953d9807ef167af3849355840538d46460f658e72100e00b598bfc1399"
   }
  }
 },
 "nbformat": 4,
 "nbformat_minor": 2
}
