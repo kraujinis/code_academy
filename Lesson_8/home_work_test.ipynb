{
 "cells": [
  {
   "cell_type": "code",
   "execution_count": 49,
   "metadata": {},
   "outputs": [
    {
     "name": "stdout",
     "output_type": "stream",
     "text": [
      "Joined 5 word list:  guftimehsjbdqwkacgmyilvnhjkvrgefcdoqstiodqzbmnvsfwkdyzvriqjgxwk\n",
      "Joined unique letters:  ilcdagxtumynbhfrjsvoeqkzw\n",
      "Counted letters:  {'i': 4, 'l': 1, 'c': 2, 'd': 4, 'a': 1, 'g': 4, 'x': 1, 't': 2, 'u': 1, 'm': 3, 'y': 2, 'n': 2, 'b': 2, 'h': 2, 'f': 3, 'r': 2, 'j': 3, 's': 3, 'v': 4, 'o': 2, 'e': 2, 'q': 4, 'k': 4, 'z': 2, 'w': 3}\n"
     ]
    }
   ],
   "source": [
    "import random\n",
    "\n",
    "# START 1 --> create 5 lists with diferent 5 words\n",
    "\n",
    "letter_list = ['a', 'b', 'c', 'd', 'e', 'f',\n",
    "\t\t\t\t'g','h', 'i', 'j', 'k', 'l',\n",
    "\t\t\t\t'm', 'n', 'o', 'p', 'q', 'r',\n",
    "\t\t\t\t's', 't', 'u', 'v', 'w', 'x',\n",
    "                'y', 'z']\n",
    "\n",
    "letter_list_1 = []\n",
    "letter_list_count = {}\n",
    "\n",
    "for _ in range(0, 5):   # sukuriamas ciklas iš 5 kad sukurti 5 žodžius sąraše (liste)\n",
    "\t# kiekvienakart paimama iš raidžių sąrašo nuo 5 iki atsitiktinio skaičiaus (random) (15)\n",
    "\tletter_random = random.sample(letter_list, random.randint(5, 15))\n",
    "\t# paimtos raidės sujungiamos į vieną žodį ir pridedamas žodis į sąrašą (list)\n",
    "\tletter_list_1.append(''.join(letter_random))\n",
    "\n",
    "letter_list_joined = ''.join(letter_list_1)\t# sujungiam žodžių listus į vieną\n",
    "unique_letters = ''.join(set(letter_list_joined))\t# išrenkame ir sujungiame unikalias raides\n",
    "\n",
    "print(\"Joined 5 word list: \", letter_list_joined)\n",
    "print(\"Joined unique letters: \", unique_letters)\n",
    "\n",
    "for letter in unique_letters:\t# imame vieną raidę iš unikalių raidžių sąrašo\n",
    "\tletter_list_count[letter] = letter_list_joined.count(letter)\t# Į žodyną įrašome raidę ir suskaičiuotą unikalių raidžių kiekį\n",
    "print(\"Counted letters: \", letter_list_count)\t\n",
    "\t\n",
    "\n"
   ]
  },
  {
   "cell_type": "code",
   "execution_count": null,
   "metadata": {},
   "outputs": [],
   "source": [
    "list = [['1', '2', '3'], ['4', '5', '6'], ['7', '8', '9']]\n",
    "list1 = [['1123333334566666'], ['12344567'], ['12345689']]\n",
    "\n",
    "for letter, word in zip(list, list1):\n",
    "    for n in letter:\n",
    "        print(\"n\", n)\n",
    "        for h in word:  \n",
    "            print(f\"counted = {n}:\", h.count(n))\n",
    "    print(\"list\")\n",
    "        "
   ]
  },
  {
   "cell_type": "code",
   "execution_count": 2,
   "metadata": {},
   "outputs": [
    {
     "name": "stdout",
     "output_type": "stream",
     "text": [
      "{'j', 'š', 'k', 'ų', 'd', 'c', 'n', 'a', 's', 'l', 'm'}\n"
     ]
    }
   ],
   "source": [
    "list = ['asašjlkųsddjšlksdacnmldsajšldskšj']\n",
    "\n",
    "for i in list:\n",
    "    a = set(i)\n",
    "print(a)"
   ]
  }
 ],
 "metadata": {
  "kernelspec": {
   "display_name": "CA",
   "language": "python",
   "name": "python3"
  },
  "language_info": {
   "codemirror_mode": {
    "name": "ipython",
    "version": 3
   },
   "file_extension": ".py",
   "mimetype": "text/x-python",
   "name": "python",
   "nbconvert_exporter": "python",
   "pygments_lexer": "ipython3",
   "version": "3.10.6"
  },
  "orig_nbformat": 4,
  "vscode": {
   "interpreter": {
    "hash": "53e861953d9807ef167af3849355840538d46460f658e72100e00b598bfc1399"
   }
  }
 },
 "nbformat": 4,
 "nbformat_minor": 2
}
