{
 "cells": [
  {
   "cell_type": "code",
   "execution_count": 70,
   "metadata": {},
   "outputs": [
    {
     "name": "stdout",
     "output_type": "stream",
     "text": [
      "['kilocahqjgpde', 'nhqeofbkicp', 'nerokj', 'prehklnqiao', 'bmdgpf']\n",
      "{'word_1': 13, 'word_2': 11, 'word_3': 6, 'word_4': 11, 'word_5': 6}\n",
      "47\n",
      "kilocahqjgpdenhqeofbkicpnerokjprehklnqiaobmdgpf\n",
      "{'o', 'd', 'r', 'i', 'h', 'p', 'm', 'q', 'n', 'c', 'f', 'b', 'g', 'k', 'a', 'j', 'l', 'e'}\n",
      "letter: o 4\n",
      "letter: d 2\n",
      "letter: r 2\n",
      "letter: i 3\n",
      "letter: h 3\n",
      "letter: p 4\n",
      "letter: m 1\n",
      "letter: q 3\n",
      "letter: n 3\n",
      "letter: c 2\n",
      "letter: f 2\n",
      "letter: b 2\n",
      "letter: g 2\n",
      "letter: k 4\n",
      "letter: a 2\n",
      "letter: j 2\n",
      "letter: l 2\n",
      "letter: e 4\n"
     ]
    }
   ],
   "source": [
    "import random\n",
    "\n",
    "# START 1 --> create 5 lists with diferent 5 words\n",
    "\n",
    "letter_list = ['a', 'b', 'c', 'd', 'e', 'f',\n",
    "\t\t\t\t'g','h', 'i', 'j', 'k', 'l',\n",
    "\t\t\t\t'm', 'n', 'o', 'p', 'q', 'r']\n",
    "\n",
    "\n",
    "letter_list_1 = []\n",
    "letter_list_2 = []\n",
    "letter_list_3 = []\n",
    "letter_list_4 = []\n",
    "letter_list_5 = []\n",
    "\n",
    "letter_list_count = {}\n",
    "\n",
    "for _ in range(0, 5):   # sukuriamas ciklas iš 5 kad sukurti 5 kintamuosius sąraše (liste)\n",
    "\t# kiekvienakart paimama iš raidžių sąrašo nuo 5 iki atsitiktinio skaičiaus (random) (15)\n",
    "\tletter_random = random.sample(letter_list, random.randint(5, 15))   # take random letters (lengt random)\n",
    "\t# paimtos raidės sujungiumas į vieną žodį ir pridedamas žodis į sąrašą (list)\n",
    "\tletter_list_1.append(''.join(letter_random))   # join and append letters to list\n",
    "\n",
    "print(letter_list_1)\n",
    "\n",
    "i: int = 0\n",
    "word: str = ''\n",
    "\n",
    "for item in letter_list_1:\n",
    "\ti += 1\n",
    "\tletter_list_count['word_' + str(i)] = len(item)\n",
    "\t\n",
    "print(letter_list_count)\n",
    "print(sum(letter_list_count.values()))\n",
    "\n",
    "a = ''.join(letter_list_1)\n",
    "print(a)\n",
    "unique = set(a)\n",
    "print(unique)\n",
    "\n",
    "for letter in unique:\n",
    "\tprint(f\"letter: {letter}\", a.count(letter))\n",
    "\t\n",
    "\t\n",
    "\n"
   ]
  }
 ],
 "metadata": {
  "kernelspec": {
   "display_name": "CA",
   "language": "python",
   "name": "python3"
  },
  "language_info": {
   "codemirror_mode": {
    "name": "ipython",
    "version": 3
   },
   "file_extension": ".py",
   "mimetype": "text/x-python",
   "name": "python",
   "nbconvert_exporter": "python",
   "pygments_lexer": "ipython3",
   "version": "3.10.6"
  },
  "orig_nbformat": 4,
  "vscode": {
   "interpreter": {
    "hash": "53e861953d9807ef167af3849355840538d46460f658e72100e00b598bfc1399"
   }
  }
 },
 "nbformat": 4,
 "nbformat_minor": 2
}
