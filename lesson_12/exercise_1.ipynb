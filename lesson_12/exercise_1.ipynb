# Create at least 5 different functions and try 
# to handle at least 5 built-in Python Exceptions.

from typing import Union


def print_sum(numb_one: Union[int, float], numb_two: Union[int, float]) -> Union[int, float]:
    return numb_one + numb_two

try:
    sum = print_sum(12, 2)
    print(sum)
except Exception as e:
    print(e)