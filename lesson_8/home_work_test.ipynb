{
 "cells": [
  {
   "cell_type": "code",
   "execution_count": 6,
   "metadata": {},
   "outputs": [
    {
     "name": "stdout",
     "output_type": "stream",
     "text": [
      "Joined 5 word list:  lbmpzufesbmfelzxqkiupagucyjscoikzvtqxwzcsemvofyitu\n",
      "Joined unique letters:  gtfuikmloqavpweybzsxjc\n",
      "Counted letters:  {'g': 1, 't': 2, 'f': 3, 'u': 4, 'i': 3, 'k': 2, 'm': 3, 'l': 2, 'o': 2, 'q': 2, 'a': 1, 'v': 2, 'p': 2, 'w': 1, 'e': 3, 'y': 2, 'b': 2, 'z': 4, 's': 3, 'x': 2, 'j': 1, 'c': 3}\n"
     ]
    }
   ],
   "source": [
    "import random\n",
    "\n",
    "# START 1 --> create 5 lists with diferent 5 words\n",
    "\n",
    "letter_list = ['a', 'b', 'c', 'd', 'e', 'f',\n",
    "\t\t\t\t'g','h', 'i', 'j', 'k', 'l',\n",
    "\t\t\t\t'm', 'n', 'o', 'p', 'q', 'r',\n",
    "\t\t\t\t's', 't', 'u', 'v', 'w', 'x',\n",
    "                'y', 'z']\n",
    "\n",
    "letter_list_1 = []\n",
    "letter_list_count = {}\n",
    "\n",
    "\"\"\"Sukuriamas ciklas iš 5 ratų {for _ in range(0, 5)}\n",
    "\t\tkiekvieną kartą paimama iš raidžių sąrašo {letter_list} nuo 5 iki 15 atsitiktinių raidžių\n",
    "\t\tjos sujungiamos į vieną žodį\n",
    "\n",
    "\"\"\"\n",
    "\n",
    "for _ in range(0, 5):\n",
    "\tletter_list_1.append(''.join(random.sample(letter_list, random.randint(5, 15))))\n",
    "\n",
    "letter_list_joined = ''.join(letter_list_1)\t# sujungiam žodžių listus į vieną\n",
    "unique_letters = ''.join(set(letter_list_joined))\t# išrenkame ir sujungiame unikalias raides\n",
    "\n",
    "print(\"Joined 5 word list: \", letter_list_joined)\n",
    "print(\"Joined unique letters: \", unique_letters)\n",
    "\n",
    "for letter in unique_letters:\t# imame vieną raidę iš unikalių raidžių sąrašo\n",
    "\tletter_list_count[letter] = letter_list_joined.count(letter)\t# Į žodyną įrašome raidę ir suskaičiuotą unikalių raidžių kiekį\n",
    "print(\"Counted letters: \", letter_list_count)\n",
    "\n"
   ]
  },
  {
   "cell_type": "code",
   "execution_count": null,
   "metadata": {},
   "outputs": [],
   "source": [
    "list = [['1', '2', '3'], ['4', '5', '6'], ['7', '8', '9']]\n",
    "list1 = [['1123333334566666'], ['12344567'], ['12345689']]\n",
    "\n",
    "for letter, word in zip(list, list1):\n",
    "    for n in letter:\n",
    "        print(\"n\", n)\n",
    "        for h in word:  \n",
    "            print(f\"counted = {n}:\", h.count(n))\n",
    "    print(\"list\")\n",
    "        "
   ]
  },
  {
   "cell_type": "code",
   "execution_count": 2,
   "metadata": {},
   "outputs": [
    {
     "name": "stdout",
     "output_type": "stream",
     "text": [
      "{'j', 'š', 'k', 'ų', 'd', 'c', 'n', 'a', 's', 'l', 'm'}\n"
     ]
    }
   ],
   "source": [
    "list = ['asašjlkųsddjšlksdacnmldsajšldskšj']\n",
    "\n",
    "for i in list:\n",
    "    a = set(i)\n",
    "print(a)"
   ]
  }
 ],
 "metadata": {
  "kernelspec": {
   "display_name": "Python 3",
   "language": "python",
   "name": "python3"
  },
  "language_info": {
   "codemirror_mode": {
    "name": "ipython",
    "version": 3
   },
   "file_extension": ".py",
   "mimetype": "text/x-python",
   "name": "python",
   "nbconvert_exporter": "python",
   "pygments_lexer": "ipython3",
   "version": "3.10.6"
  },
  "orig_nbformat": 4,
  "vscode": {
   "interpreter": {
    "hash": "916dbcbb3f70747c44a77c7bcd40155683ae19c65e1c03b4aa3499c5328201f1"
   }
  }
 },
 "nbformat": 4,
 "nbformat_minor": 2
}
