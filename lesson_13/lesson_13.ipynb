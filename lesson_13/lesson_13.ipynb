{
 "cells": [
  {
   "attachments": {},
   "cell_type": "markdown",
   "metadata": {},
   "source": [
    "# Modules, packages and imports [LTU]\n",
    "***\n",
    "## Įvadas\n",
    "***\n",
    "Kol mokotės programuoti Python kalba, gali būti prasminga visą kodą rašyti Python integruotoje kūrimo ir mokymosi aplinkoje (IDLE). Po kurio laiko tai tampa nepraktiška. Natūraliausia iš ten pradėti kurti savo \"Python\" šaltinio failus, kurie naudojami kodui išsaugoti - \"Python\" šaltinio failai saugomi su plėtiniu .py.\n",
    "\n",
    "Šiuose šaltinio failuose galite apibrėžti įvairias funkcijas, klases ir kitus objektus, taip pat tiksliai nurodyti, ką norite, kad programa darytų paleidus kodą. Kadangi failas yra išsaugotas, jums nereikia iš naujo rašyti kodo kiekvieną kartą, kai norite pateikti kokius nors nurodymus \"Python\" interpretuotojui: tiesiog paleidžiate anksčiau parašytą scenarijų.\n",
    "\n",
    "Tačiau saugoti visą kodą viename šaltinio faile yra nepraktiška, kai pradedate kurti sudėtingesnes programas. Stebėti visas funkcijas ir klases bei tai, kaip kodai dera tarpusavyje, darosi vis sudėtingiau, nes programos sudėtingumas didėja. Net ir turintieji geriausią atmintį gali prisiminti tik tiek daug, todėl turime kurti programas taip, kad mums būtų lengviau gyventi. Štai čia į pagalbą ateina modulinis programavimas.\n",
    "\n",
    "Modulinio programavimo pristatymas\n",
    "Python programuotojai naudoja modulinį programavimą įvairioms programoms kurti. Modulinis programavimas - tai tiesiog programų struktūrizavimo būdas, kai didėja jų sudėtingumas. Jame daugiausia dėmesio skiriama didelių užduočių skaidymui į mažus subuždavinius, kuriuos lengviau valdyti.\n",
    "\n",
    "Mažesnių užduočių sujungimas sudaro programą; \"Python\" programoje kiekvieną atskirą užduotį vadiname moduliu, kuris iš tikrųjų yra bendras terminas, reiškiantis pakartotinai naudojamą kodą. Moduliai saugomi su plėtiniu .py ir importuojami į įvairias kitas programas.\n",
    "\n",
    "Kai turime kelis modulius, jų rinkinys vadinamas paketu. Paketą galima įsivaizduoti kaip aplanką, kuriame yra moduliai ir galbūt kiti aplankai, kuriuose yra moduliai [ir t. t.]. Taigi paketas yra tiesiog pavadinimas, naudojamas visiems jame esantiems moduliams susieti, kad ateityje galėtume į jį atsiremti, kai norėsime tą kodą naudoti kitoje programoje.\n",
    "\n",
    "Kai kurie modulinio programavimo privalumai:\n",
    "\n",
    "Kai savo programas suskirstome į modulius, galime sutelkti dėmesį į mažesnes didesnės problemos dalis. Tai reiškia, kad galime daugiau dėmesio skirti tam, kad įsitikintume, jog mūsų parašytas kodas veikia, prieš integruodami jį į didesnę programą. Kitaip tariant, rašydami modulinį kodą galime rašyti išsamesnius ir griežtesnius testus, kad patikrintume funkcionalumą, kuris atlieka mažiau funkcijų. Be to, kodą kur kas lengviau sekti ir skaityti, kai jis suskirstytas į dalis, susijusias su konkrečiomis funkcionalumo dalimis. Jei vietoj to naudotume monolitinį kodą, rasti konkrečias dalis taptų vis sudėtingiau, nes didėjant rašomų eilučių skaičiui - mažiau kalbėti apie failo dydį.\n",
    "\n",
    "Prižiūrimumas - Dideles programas paprastai kuria keli programuotojai, kurie sutelkia savo įgūdžius; kai kiekvienas modulis yra vienintelis jo funkcionalumo tiesos šaltinis, sumažėja klaidų, galinčių atsirasti programoje, skaičius. Taip yra todėl, kad, kai savo kode aptiksime klaidą arba kai reikės atnaujinti tam tikrą funkcionalumo dalį, pakeitimus reikės atlikti tik modulio lygmeniu, o ne visoje programoje - atsižvelgiant į tai, kad patikrinome tarpusavio patikimumo kriterijus. Taip ne tik lengviau pastebėti ir greitai ištaisyti šias klaidas, bet ir skatinamas komandų bendradarbiavimas. Pavyzdžiui, atsakomybė už konkrečius modulius gali būti paskirta įvairiems komandos nariams, ir nors vis tiek būtume sunerimę, yra daugiau pasitikėjimo, kad mūsų atliekami pakeitimai ar atnaujinimai nesugadins visos sistemos.\n",
    "\n",
    "Pakartotinis panaudojamumas - pagrindinė esmė ta, kad kurdami programinę įrangą dažnai pakartotinai naudojame kodą. Užuot kopijavus ir klijavus šį kodą, geresnis sprendimas yra reikiamą kodą pritraukti iš vieno šaltinio, o tai mums leidžia daryti moduliavimas.\n",
    "\n",
    "## Moduliai\n",
    "***\n",
    "### Sukurti\n",
    "Modulio kūrimas python kalba yra panašus į paprasto python scenarijaus rašymą naudojant .py plėtinį. Toliau pateiktame pavyzdyje pabandykime sukurti modulį įvairioms operacijoms atlikti:"
   ]
  },
  {
   "cell_type": "code",
   "execution_count": null,
   "metadata": {},
   "outputs": [],
   "source": [
    "def add(x: int,y: int) -> int:\n",
    "     return x + y\n",
    " \n",
    "def sub(x: int,y: int) -> int:\n",
    "     return x - y\n",
    " \n",
    "def prod(x: int,y: int) -> int:\n",
    "    return x * y\n",
    " \n",
    "def div(x: int,y: int) -> int:\n",
    "    return x // y"
   ]
  },
  {
   "attachments": {},
   "cell_type": "markdown",
   "metadata": {},
   "source": [
    "Išsaugokite pirmiau pateiktą kodą faile calc.py (galite jį pavadinti kaip norite). Taip mes sukuriame modulį pythone. Šiame modulyje sukūrėme įvairias funkcijas. Šiuos modulius galime naudoti savo pagrindiniame faile.\n",
    "\n",
    "### Paprastai\n",
    "Naudosime raktinį žodį import, kad modulį įtrauktume į savo programą, iš raktinis žodis naudojamas norint iš modulio gauti tik kelis arba tam tikrus metodus ar funkcijas. Pažiūrėkime, kokie yra skirtingi modulio naudojimo jūsų programoje būdai. Tarkime, kad turime savo failą, kurio pavadinimas main.py :\n",
    "\n"
   ]
  },
  {
   "cell_type": "code",
   "execution_count": null,
   "metadata": {},
   "outputs": [],
   "source": [
    "import calc as calculator\n",
    "a = 10\n",
    "b = 20\n",
    " \n",
    "addition = calculator.add(a,b)\n",
    "print(addition)\n",
    "\n",
    "# Output: 30"
   ]
  },
  {
   "attachments": {},
   "cell_type": "markdown",
   "metadata": {},
   "source": [
    "Pirmiau pateiktame kode sukūrėme slapyvardį naudodami raktinį žodį as. Pirmiau pateikto kodo išvestis bus dviejų skaičių a ir b sudėtis, naudojant calc.py modulio add funkcijoje nurodytą logiką.\n",
    "\n",
    "Pažvelkime į kitą metodą. Toliau pateiktame kode importavome visas funkcijas naudodami žvaigždutę, o norėdami gauti rezultatus, galime tiesiog paminėti funkcijos pavadinimą."
   ]
  },
  {
   "cell_type": "code",
   "execution_count": null,
   "metadata": {},
   "outputs": [],
   "source": [
    "from calc import * # tai geriau nenaudoti nes galima importuoti daug funkcijų ir iš kitų modulių\n",
    "a = 20\n",
    "b = 30\n",
    " \n",
    "print(add(a,b))\n",
    "\n",
    "# Output: 50"
   ]
  },
  {
   "attachments": {},
   "cell_type": "markdown",
   "metadata": {},
   "source": [
    "Python modulio kelias\n",
    "Kai importuojame modulį, interpreteris ieško modulio sys.path esančiuose modulių kataloguose ir, jei neranda, ieško modulio tokia tvarka:"
   ]
  },
  {
   "cell_type": "code",
   "execution_count": null,
   "metadata": {},
   "outputs": [],
   "source": [
    "import sys \n",
    "print(sys.path)"
   ]
  },
  {
   "attachments": {},
   "cell_type": "markdown",
   "metadata": {},
   "source": [
    "Paleidę pirmiau pateiktą kodą, gausite katalogų sąrašą. Sąraše galite atlikti pakeitimus ir sukurti savo kelią.\n",
    "\n",
    "Įdiegti moduliai parašyti C kalba ir integruoti su Python interpreteriu. Kiekviename integruotajame modulyje yra išteklių, skirtų tam tikroms specifinėms funkcijoms, pavyzdžiui, operacinės sistemos valdymui, disko įvesties ir (arba) išvesties funkcijoms ir t. t.\n",
    "\n",
    "Standartinėje bibliotekoje taip pat yra daugybė python skriptų, kuriuose yra naudingų pagalbinių programų. Mūsų žinioje yra keletas integruotų python modulių, kuriais galime naudotis, kai tik norime.\n",
    "\n",
    "Norėdami gauti visų python modulių sąrašą, python konsolėje galite parašyti šią komandą:\n",
    "\n"
   ]
  },
  {
   "cell_type": "code",
   "execution_count": null,
   "metadata": {},
   "outputs": [],
   "source": [
    "help('modules')"
   ]
  },
  {
   "attachments": {},
   "cell_type": "markdown",
   "metadata": {},
   "source": [
    "## if name == \"main\"` magic\n",
    "Daugeliu praktinių atvejų galite manyti, kad sąlyginis blokas, kurį atidarote su if __name__ == \"__main__\", yra būdas saugoti kodą, kuris turėtų būti vykdomas tik tada, kai jūsų failas vykdomas kaip skriptas.\n",
    "\n",
    "Pavyzdys:"
   ]
  },
  {
   "cell_type": "code",
   "execution_count": null,
   "metadata": {},
   "outputs": [],
   "source": [
    "# echo.py\n",
    "\n",
    "def echo(text: str, repetitions: int = 3) -> str:\n",
    "    \"\"\"Imitate a real-world echo.\"\"\"\n",
    "    echoed_text = \"\"\n",
    "    for i in range(repetitions, 0, -1):\n",
    "        echoed_text += f\"{text[-i:]}\\n\"\n",
    "    return f\"{echoed_text.lower()}.\"\n",
    "\n",
    "\n",
    "if __name__ == \"__main__\":\n",
    "\n",
    "    text = input(\"Yell something at a mountain: \")\n",
    "    print(echo(text))"
   ]
  },
  {
   "attachments": {},
   "cell_type": "markdown",
   "metadata": {},
   "source": [
    "Šiame pavyzdyje apibrėžiama funkcija echo(), kuri imituoja realų aidą, palaipsniui spausdindama vis mažiau paskutinių įvesties teksto raidžių. Kai paleidžiate failą kaip skriptą, perduodami failo objektą \"Python\" interpretatoriui, išraiška __name__ == \"__main__\" grąžina True. Tuomet paleidžiamas kodo blokas po if, todėl \"Python\" surenka naudotojo įvestį ir iškviečia echo().\n",
    "\n",
    "Pamirškite: Kodo įterpimas po if __name__ == \"__main__\" leidžia patenkinti skirtingus naudojimo atvejus:\n",
    "\n",
    "Skriptas: Vykdomas kaip scenarijus, jūsų kodas paprašo naudotojo įvesti duomenis, iškviečia echo() ir išspausdina rezultatą.\n",
    "Modulis: Kai importuojate \"echo\" kaip modulį, tada apibrėžiama funkcija echo(), bet kodas nevykdomas. Pagrindiniam kodo seansui suteikiate echo() be jokių šalutinių poveikio."
   ]
  }
 ],
 "metadata": {
  "kernelspec": {
   "display_name": "Python 3",
   "language": "python",
   "name": "python3"
  },
  "language_info": {
   "name": "python",
   "version": "3.10.6"
  },
  "orig_nbformat": 4,
  "vscode": {
   "interpreter": {
    "hash": "916dbcbb3f70747c44a77c7bcd40155683ae19c65e1c03b4aa3499c5328201f1"
   }
  }
 },
 "nbformat": 4,
 "nbformat_minor": 2
}
