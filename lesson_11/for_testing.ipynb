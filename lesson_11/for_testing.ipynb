{
 "cells": [
  {
   "cell_type": "code",
   "execution_count": 251,
   "metadata": {},
   "outputs": [
    {
     "name": "stdout",
     "output_type": "stream",
     "text": [
      "True\n"
     ]
    }
   ],
   "source": [
    "from typing import List\n",
    "\n",
    "list_1 = [\"at\", \"be\", \"th\", \"au\"]\n",
    "list_2 = [\"beautiful\", \"the\", \"hat\"]\n",
    "\n",
    "\n",
    "def bigram(list1: List[str], list2: List[str]) -> bool:\n",
    "    list_iterated = []\n",
    "    list_doubled = []\n",
    "    filtered = []\n",
    "    for i in list2:\n",
    "        for j in i:\n",
    "            list_iterated.append(j)\n",
    "    \n",
    "    for i in range(len(list_iterated) - 1):\n",
    "        a = list_iterated[i + 0]\n",
    "        b = list_iterated[i + (len(list_iterated) * -1) + 1] \n",
    "        c = a + b\n",
    "        list_doubled.append(c)\n",
    "        \n",
    "    for i in list1:\n",
    "        if i in list_doubled:\n",
    "            filtered.append(i)\n",
    "    if len(filtered) == len(list1):\n",
    "        return True\n",
    "    else:\n",
    "        return False\n",
    "\n",
    "            \n",
    "print(bigram(list_1, list_2))\n"
   ]
  }
 ],
 "metadata": {
  "kernelspec": {
   "display_name": "CA",
   "language": "python",
   "name": "python3"
  },
  "language_info": {
   "codemirror_mode": {
    "name": "ipython",
    "version": 3
   },
   "file_extension": ".py",
   "mimetype": "text/x-python",
   "name": "python",
   "nbconvert_exporter": "python",
   "pygments_lexer": "ipython3",
   "version": "3.10.6"
  },
  "orig_nbformat": 4,
  "vscode": {
   "interpreter": {
    "hash": "53e861953d9807ef167af3849355840538d46460f658e72100e00b598bfc1399"
   }
  }
 },
 "nbformat": 4,
 "nbformat_minor": 2
}
