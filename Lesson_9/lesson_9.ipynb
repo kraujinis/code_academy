{
 "cells": [
  {
   "attachments": {},
   "cell_type": "markdown",
   "metadata": {},
   "source": [
    "Lesson 9: Data Structures: Specials methods\n",
    "***\n",
    "Data Structure: Special methods\n",
    "***\n",
    "In this lecture we will review some additional functionalities of python built-in data structures. And also review math library\n",
    "\n",
    "<p>List comprehensions</p>\n",
    "It is a very useful way of making your loops more compact/ readable/ understandable.\n",
    "\n",
    "Example:\n",
    "\n",
    "Let's say you want a program that gets first 10 perfect squares, how do you do it?"
   ]
  },
  {
   "cell_type": "code",
   "execution_count": null,
   "metadata": {},
   "outputs": [],
   "source": [
    "squares = []\n",
    "\n",
    "for number in range(10):\n",
    "    squares.append(number * number)\n",
    "print(squares)"
   ]
  },
  {
   "attachments": {},
   "cell_type": "markdown",
   "metadata": {},
   "source": [
    "It works just fine, but there is a bit nicer way of writing this down which is even more human readable:"
   ]
  },
  {
   "cell_type": "code",
   "execution_count": null,
   "metadata": {},
   "outputs": [],
   "source": [
    "squares = [number * number for number in range(10)]\n",
    "print(squares)"
   ]
  },
  {
   "attachments": {},
   "cell_type": "markdown",
   "metadata": {},
   "source": [
    "Neat isn't it? All it does is the following:\n",
    "\n",
    "1) creates squares as a list.\n",
    "2) inside of the list it says that we are looping all the numbers in range(10)\n",
    "3) each object in the list is going to be that number in the loop multiplied by the number: number * number\n",
    "\n",
    "What is more, what if we wanted to have all the perfect squares except 25? Try writing this one down without list comprehension.\n",
    "\n",
    "The implementation with list comprehension:"
   ]
  },
  {
   "cell_type": "code",
   "execution_count": null,
   "metadata": {},
   "outputs": [],
   "source": [
    "squares = [number * number for number in range(10) if number != 5]\n",
    "print(squares)"
   ]
  },
  {
   "attachments": {},
   "cell_type": "markdown",
   "metadata": {},
   "source": [
    "Boom, simple yet efficient and still super human readable.\n",
    "\n",
    "Now trying writing down a list comprehension yourself that would only return perfect square of even numbers:\n",
    "\n",
    "Answer"
   ]
  },
  {
   "cell_type": "code",
   "execution_count": null,
   "metadata": {},
   "outputs": [],
   "source": [
    "squares = [number * number for number in range(10) if number % 2 == 0]\n",
    "print(squares)"
   ]
  },
  {
   "attachments": {},
   "cell_type": "markdown",
   "metadata": {},
   "source": [
    "Alright for now we have seen such numbers with only integers, but can we work with strings too? Ofcourse!\n",
    "\n",
    "let's say you have list of names and want to filter our only the ones starting with certain letter:"
   ]
  },
  {
   "cell_type": "code",
   "execution_count": null,
   "metadata": {},
   "outputs": [],
   "source": [
    "names = [\"Albert\", \"Bernard\", \"Charles\", \"Daniel\", \"Emily\"]\n",
    "print([name for name in names if name.startswith(\"A\")])\n"
   ]
  },
  {
   "attachments": {},
   "cell_type": "markdown",
   "metadata": {},
   "source": [
    "You can even chain more logic with and and or clauses as well:"
   ]
  },
  {
   "cell_type": "code",
   "execution_count": null,
   "metadata": {},
   "outputs": [],
   "source": [
    "names = [\"Albert\", \"Bernard\", \"Charles\", \"Daniel\", \"Emily\"]\n",
    "print([name for name in names if name.startswith(\"A\") or \"e\" in name])"
   ]
  },
  {
   "attachments": {},
   "cell_type": "markdown",
   "metadata": {},
   "source": [
    "As you can see you can chain as much logic as you want to here. But it is best to keep there list comprehensions as short as possible because if you have too much logic here, it might become impossible to understand even for you after couple of days...\n",
    "\n",
    "Note ! The list, set, tuple comprehensions work exactly the same except that outer brackets are different, everything else stays the same.\n",
    "Dictionary comprehensions\n",
    "Dictionaries also have this fancy one liner comprehension functionality:\n",
    "\n",
    "Let's say we have the same problem of perfect squares but we want to have number: percect_square structure like this: {1: 1, 2: 4, 3: 9} Try writing this without dictionary comprehension yourself.\n",
    "\n",
    "Dictionary comprehension example:"
   ]
  },
  {
   "cell_type": "code",
   "execution_count": null,
   "metadata": {},
   "outputs": [],
   "source": [
    "squares = {i: i * i for i in range(10)}\n",
    "print(squares)"
   ]
  },
  {
   "attachments": {},
   "cell_type": "markdown",
   "metadata": {},
   "source": [
    "Try doing both exercises done with lists:\n",
    "\n",
    "    1) program without perfect square of 5.\n",
    "    2)only odd numbers.\n",
    "# Enumerate\n",
    "Let's imagine we have a python loops over some items in the list:"
   ]
  },
  {
   "cell_type": "code",
   "execution_count": null,
   "metadata": {},
   "outputs": [],
   "source": [
    "values = [\"a\", \"b\", \"c\", \"d\", \"e\", \"f\", \"g\"]\n",
    "index = 0\n",
    "\n",
    "for value in values:\n",
    "    print(value)\n",
    "    index += 1"
   ]
  },
  {
   "attachments": {},
   "cell_type": "markdown",
   "metadata": {},
   "source": [
    "it is a simple nice loop, that does all it has to. Now imagine you also want to get the corresponding index of the item. How would you do it?\n",
    "\n",
    "You could do something like this:"
   ]
  },
  {
   "cell_type": "code",
   "execution_count": null,
   "metadata": {},
   "outputs": [],
   "source": [
    "values = [\"a\", \"b\", \"c\", \"d\", \"e\", \"f\", \"g\"]\n",
    "index = 0\n",
    "\n",
    "for value in values:\n",
    "    print(index, value)\n",
    "    index += 1"
   ]
  }
 ],
 "metadata": {
  "kernelspec": {
   "display_name": "Python 3",
   "language": "python",
   "name": "python3"
  },
  "language_info": {
   "codemirror_mode": {
    "name": "ipython",
    "version": 3
   },
   "file_extension": ".py",
   "mimetype": "text/x-python",
   "name": "python",
   "nbconvert_exporter": "python",
   "pygments_lexer": "ipython3",
   "version": "3.10.6"
  },
  "orig_nbformat": 4,
  "vscode": {
   "interpreter": {
    "hash": "916dbcbb3f70747c44a77c7bcd40155683ae19c65e1c03b4aa3499c5328201f1"
   }
  }
 },
 "nbformat": 4,
 "nbformat_minor": 2
}
