{
 "cells": [
  {
   "attachments": {},
   "cell_type": "markdown",
   "metadata": {},
   "source": [
    "<p style =color:red;font-size:18px>Aritmetiniai skaičiavimai</p>"
   ]
  },
  {
   "cell_type": "code",
   "execution_count": null,
   "metadata": {},
   "outputs": [],
   "source": [
    "a = 5\n",
    "print(a)\n",
    "\n",
    "b = 25\n",
    "print(b)"
   ]
  },
  {
   "cell_type": "code",
   "execution_count": null,
   "metadata": {},
   "outputs": [],
   "source": [
    "a = 5\n",
    "b = 25\n",
    "\n",
    "c = a + b      # suma\n",
    "print(c)\n",
    "\n",
    "c = a - b      # skirtumas\n",
    "print(\"-\", c)\n",
    "\n",
    "c = a * b      # daugyba\n",
    "print(\"*\", c)\n",
    "\n",
    "c = a / b      # dalyba\n",
    "print(\"/\",c)\n",
    "\n",
    "c = a // b     # sveikas skaičius\n",
    "print(\"//\",c)\n",
    "\n",
    "c = a % b      # liekana\n",
    "print(\"%\",c)\n",
    "\n",
    "c = a ** b    # kėlimas laipsniu\n",
    "print(\"**\",c)\n"
   ]
  },
  {
   "attachments": {},
   "cell_type": "markdown",
   "metadata": {},
   "source": [
    "<p style =color:red;font-size:18px>String</p>"
   ]
  },
  {
   "cell_type": "code",
   "execution_count": null,
   "metadata": {},
   "outputs": [],
   "source": [
    "letter = \"a\"\n",
    "name = \"Code Academy\"\n",
    "sentence = \"I realy enjoy learning python !\"\n",
    "\n",
    "# String operacijos, simbolių vietos\n",
    "# C  | o | d |e |  |A |c |a |d |e |m |y |  |\n",
    "# 0  | 1 | 2 |3 |4 |5 |6 |7 |8 |9 |10|11|12|    simbolio vieta iš kairės į dešinę\n",
    "# -12|-11|-10|-9|-8|-7|-6|-5|-4|-3|-2|-1|  |    arba iš dešinės į kairę pusę\n",
    "\n",
    "print(name[5])  # /--> (toliau /-->) A /\n",
    "\n",
    "print(name[-2]) # /--> m /\n",
    "\n",
    "print(name[5:12]) # /--> Academy /, norit šiuo būdu išvesti pilną paskutinį žodį reikia nurodyti viena pozicija daugiau nei yra ženklų\n",
    "\n",
    "print(name[5:]) # /--> Academy /, šis variantas išveda viską kas yra nuo 5 ženklo ir į dešinę\n",
    "\n",
    "print(name[:4]) # /--> Code /, šis variantas išveda viską kas yra iš kairės iki 4 ženklo išskyrus 4 ženklą\n",
    "\n",
    "print(name[5:12:2]) # /--> Aaey /, [5:12:(nurodoma kas kelintą simbolį išvesti, pradedama skaičiuoti nuo pirmo simbolio)]print\n",
    "\n",
    "print(name[5::2])   # /--> Aaey /, tas pats kas prieš tai, paskutinis skaičius nurodo kas kelintą simbolį išvesti\n",
    "\n",
    "print(name[::-1])   # /--> ymedacA edoC /, string reversavimas\n",
    "\n",
    "print(name[3::-1])  # /--> edoC / paimami simboliai nuo 0 iki 3 ir apverčiami\n",
    "\n",
    "print(name[12:3:-1])  # /--> ymedacA / paimami simboliai nuo 0 iki 3 ir apverčiami\n",
    "\n",
    "print(name.split()) # /--> ['Code', 'Academy'] /, gaunamas list (sąrašas)\n",
    "\n",
    "print(name.upper()) # /--> CODE ACADEMY / \n",
    "\n",
    "print(name.replace('c', 'k')) # /--> Code Akademy /, keičia tik mažąją c į k, keičiamas tik tikslus ženklas ar frazė į bet kokį ženklą ar frazę\n",
    "\n",
    "greeting = \"Hello, my name is\"\n",
    "name = \"Tom\"\n",
    "\n",
    "completed_greeting = greeting + \" \" + name # sudedami string arba srt kintamieji\n",
    "print(completed_greeting)"
   ]
  },
  {
   "attachments": {},
   "cell_type": "markdown",
   "metadata": {},
   "source": [
    "<p style =color:red;font-size:18px>Tipų konvertavimas</p>"
   ]
  },
  {
   "cell_type": "code",
   "execution_count": null,
   "metadata": {},
   "outputs": [],
   "source": [
    "# Negalima konvertuoti String iš raidžių į Integer ar Float, bet galima jei String yra skaičius\n",
    "\n",
    "a = \"55\"\n",
    "b = int(a)\n",
    "c = float(a)\n",
    "print(b, c)\n",
    "\n",
    "a = 55\n",
    "b = int(a)\n",
    "c = float(a)\n",
    "print(b, c)\n"
   ]
  },
  {
   "attachments": {},
   "cell_type": "markdown",
   "metadata": {},
   "source": [
    "<p style =color:red;font-size:18px>Vartotojo įvestis</p>"
   ]
  },
  {
   "cell_type": "code",
   "execution_count": null,
   "metadata": {},
   "outputs": [],
   "source": [
    "name = input(\"Enter you name: \")\n",
    "age = input(\"Enter yuo age: \")\n",
    "\n",
    "print(f\"You name is {name}, you age {age} years old\")"
   ]
  },
  {
   "attachments": {},
   "cell_type": "markdown",
   "metadata": {},
   "source": [
    "<p style =color:red;font-size:18px>Užduotis 1</p>\n",
    "<ol>\n",
    "    <li>Sukurkite programą, leidžiančią vartotojui įvesti savo vardą ir amžių</li>\n",
    "    <li>Apskaičiuoti metus, kuriais vartotojas gimė</li>\n",
    "    <li>Išspausdinti atsakymą į terminalą</li>\n",
    "</ol>"
   ]
  },
  {
   "cell_type": "code",
   "execution_count": null,
   "metadata": {},
   "outputs": [],
   "source": [
    "import datetime # importuojama datetime biblioteka\n",
    "\n",
    "name = input(\"Input you name: \")\n",
    "age = int(input(\"How old are you ? : \")) # Kiek metų turi klausiamasis\n",
    "birthday = input(\"You birthday was until now (please answer Yes or No) ? : \") # Klausiama ar buvo iki šio laiko gimtadienis\n",
    "\n",
    "date_now = datetime.datetime.now() # Nustatoma dabartinė data\n",
    "\n",
    "# Pagal atsakymą kada buvo gimtadienis, tikrinamos sąlygos\n",
    "if birthday == 'Yes':\n",
    "    date_of_birth = int(date_now.strftime(\"%Y\")) - age  # int(date_now.strftime(\"%Y\")) Dabartinė data formatuojama taip kad būtų naudojami tik metai\n",
    "    print(f\"{name} you year of birth is {date_of_birth}\") # ir atimami tik turimi metai, nes gimtadienis jau buvo šiais metais\n",
    "if birthday == 'No':\n",
    "    date_of_birth = int(date_now.strftime(\"%Y\")) - age - 1 # int(date_now.strftime(\"%Y\")) dabartinė data formatuojama taip kad būtų naudojami tik metai\n",
    "    print(f\"{name} you year of birth is {date_of_birth}\") # ir atimami turimi metai ir dar vieni metai nes gimtadienio dar nebuvo šiais metais"
   ]
  },
  {
   "attachments": {},
   "cell_type": "markdown",
   "metadata": {},
   "source": [
    "<p style =color:red;font-size:18px>Užduotis 2</p>\n",
    "<ol>\n",
    "    <li>Sukurti programą, leidžiančią vartotojui įvesti visą sakinį</li>\n",
    "    <li>Išspausdinti sakinį atbuline tvarka</li>\n",
    "    <li>Spausdinti kas antrą sakinio raidę</li>\n",
    "</ol>"
   ]
  },
  {
   "cell_type": "code",
   "execution_count": null,
   "metadata": {},
   "outputs": [],
   "source": [
    "sentence = str(input(\"Please write you sentence: \"))\n",
    "print(f\"You sentence is \\\"{sentence}\\\" and reversed \\\"{sentence[::-1]}\\\"\")\n",
    "print(f\"You sentence is  \\\"{sentence}\\\" and only all secont leter \\\" {sentence[::2]}\\\"\" )"
   ]
  },
  {
   "attachments": {},
   "cell_type": "markdown",
   "metadata": {},
   "source": [
    "<p style =color:red;font-size:18px>Užduotis 3</p>\n",
    "<ol>\n",
    "    <li>Sukurkite programą, kuri tikisi, kad naudotojas įves du skaičius</li>\n",
    "    <li>Padauginkite šiuos skaičius ir išspausdinkite atsakymą</li>\n",
    "    <li>Sukurkite panašias programas su kitais ženklais.</li>\n",
    "</ol>"
   ]
  },
  {
   "cell_type": "code",
   "execution_count": null,
   "metadata": {},
   "outputs": [],
   "source": [
    "number_one = float(input(\"Please input number one: \"))\n",
    "number_two = float(input(\"Please input number one: \"))\n",
    "\n",
    "print(f\"Multiplication of {number_one} and {number_two} is: \", number_one * number_two)"
   ]
  },
  {
   "attachments": {},
   "cell_type": "markdown",
   "metadata": {},
   "source": [
    "<p style =color:red;font-size:18px>String +</p>"
   ]
  },
  {
   "cell_type": "code",
   "execution_count": null,
   "metadata": {},
   "outputs": [],
   "source": [
    "name = input(\"Enter you name: \")\n",
    "age = input(\"Enter you age: \")\n",
    "\n",
    "print(f\"You name is {name} and age after one year will be\", int(age)+1) # prie age pridedama +1"
   ]
  },
  {
   "attachments": {},
   "cell_type": "markdown",
   "metadata": {},
   "source": [
    "<p style =color:red;font-size:18px>Užduotis 4</p>\n",
    "<ol>\n",
    "    <li>Create program that allows user to enter text</li>\n",
    "    <li>Convert that text to Leet speak <a href=https://simple.wikipedia.org/wiki/Leet>1337</a></li>\n",
    "    <li>Print outcome</li>\n",
    "</ol>"
   ]
  },
  {
   "cell_type": "code",
   "execution_count": null,
   "metadata": {},
   "outputs": [],
   "source": [
    "zodis = str(input(\"Enter you text: \"))\n",
    "# informacijos šaltinis https://bobbyhadz.com/blog/python-replace-multiple-characters-in-string\n",
    "\n",
    "# masyvas iš raidžių \n",
    "leep_replacements =[\n",
    "    ('A','4'),('a','@'),('B','8'),('b','|3'),('C','<'),('c','['),('E','3'),('e','€'),('F','7'),('f','|='),('G','9'),('g','6'),('H','#'),('h','[-]'),\n",
    "    ('I','1'),('i','!'),('J','_|'),('j','_)'),('K','1<'),('k','|<'),('L','|_'),('l','|'),('M','44'),('m','^^'),('N','|\\|'),('n','/\\/'),('O','0'),('o','()'),\n",
    "    ('P','|0'),('p','|>'),('Q','O'),('q','kw'),('R','|2'),('r','12'),('S','5'),('s','$'),('T','7'),('t','~|~'),('U','|_|'),('u','[_]'),('V','\\/'),('v','\\/'),\n",
    "    ('W','\\^/'),('w','2u'),('X','%'),('x','><'),('Y','`/'),('y','\\|/'),('Z','5'),('z','7_')\n",
    "]\n",
    "for char, replacement in leep_replacements: \n",
    "    if char in zodis:\n",
    "        zodis = zodis.replace(char, replacement)\n",
    "        \n",
    "print(zodis)\n"
   ]
  }
 ],
 "metadata": {
  "kernelspec": {
   "display_name": "CA",
   "language": "python",
   "name": "python3"
  },
  "language_info": {
   "codemirror_mode": {
    "name": "ipython",
    "version": 3
   },
   "file_extension": ".py",
   "mimetype": "text/x-python",
   "name": "python",
   "nbconvert_exporter": "python",
   "pygments_lexer": "ipython3",
   "version": "3.10.6"
  },
  "orig_nbformat": 4,
  "vscode": {
   "interpreter": {
    "hash": "7b9b1854771a17f0a04b6bb15075bbf17a502512d3fd688e04baea32a0559fb0"
   }
  }
 },
 "nbformat": 4,
 "nbformat_minor": 2
}
