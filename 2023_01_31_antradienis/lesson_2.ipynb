{
 "cells": [
  {
   "cell_type": "code",
   "execution_count": null,
   "metadata": {},
   "outputs": [],
   "source": [
    "a = 5\n",
    "print(a)\n",
    "\n",
    "b = 25\n",
    "print(b)"
   ]
  },
  {
   "cell_type": "code",
   "execution_count": null,
   "metadata": {},
   "outputs": [],
   "source": [
    "a = 5\n",
    "b = 25\n",
    "\n",
    "c = a + b      # suma\n",
    "print(c)\n",
    "\n",
    "c = a - b      # skirtumas\n",
    "print(\"-\", c)\n",
    "\n",
    "c = a * b      # daugyba\n",
    "print(\"*\", c)\n",
    "\n",
    "c = a / b      # dalyba\n",
    "print(\"/\",c)\n",
    "\n",
    "c = a // b     # sveikas skaičius\n",
    "print(\"//\",c)\n",
    "\n",
    "c = a % b      # liekana\n",
    "print(\"%\",c)\n",
    "\n",
    "c = a ** b    # kėlimas laipsniu\n",
    "print(\"**\",c)\n"
   ]
  },
  {
   "attachments": {},
   "cell_type": "markdown",
   "metadata": {},
   "source": [
    "# String"
   ]
  },
  {
   "cell_type": "code",
   "execution_count": null,
   "metadata": {},
   "outputs": [],
   "source": [
    "letter = \"a\"\n",
    "name = \"Code Academy\"\n",
    "sentence = \"I realy enjoy learning python !\"\n",
    "\n",
    "# String operacijos\n",
    "# C  | o | d |e |  |A |c |a |d |e |m |y |\n",
    "# 0  | 1 | 2 |3 |4 |5 |6 |7 |8 |9 |10|11| simbolio vieta iš kairės į dešinę\n",
    "# -12|-11|-10|-9|-8|-7|-6|-5|-4|-3|-2|-1| arba iš dešinės į kairę pusę\n",
    "\n",
    "print(name[5])  # Output A\n",
    "\n",
    "print(name[-2]) # Output m\n",
    "\n",
    "print(name[5:12]) # Output Academy, norit šiuo būdu išvesti pilną paskutinį žodį reikia nurodyti viena pozicija daugiau nei yra ženklų\n",
    "\n",
    "print(name[5:]) # Output Academy, šis variantas išveda viską kas yra nuo 5 ženklo ir į dešinę\n",
    "\n",
    "print(name[:4]) # Output Code; šis variantas išveda viską kas yra iš kairės iki 4 ženklo iš skyrus 4 ženklą\n",
    "\n",
    "print(name[5:12:2]) # Output Academy, [5:12:(nurodoma kas kelintą simbolį išvesti, pradedama skaičiuoti nuo pirmo simbolio)]print\n",
    "\n",
    "print(name[5::2])   # Output Aaey, tas pats kas prieš tai, paskutinis skaičius nurodo kas kelintą simbolį išvesti\n",
    "\n",
    "print(name[::-1])   # Output ymedacA edoC, string reversavimas\n",
    "\n",
    "print(name[3::-1])  # Output edoC\n",
    "\n",
    "print(name[12:3:-1])  # Output ymedacA\n",
    "\n",
    "print(name.split()) # Output ['Code', 'Academy'], gaunamas list (sąrašas)\n",
    "\n",
    "print(name.upper()) # Output CODE ACADEMY\n",
    "\n",
    "print(name.replace('c', 'k')) # Output Code Akademy, keičia tik mažąją c į k.\n",
    "\n",
    "greeting = \"Hello, my name is\"\n",
    "name = \"Tom\"\n",
    "\n",
    "completed_greeting = greeting + \" \" + name\n",
    "print(completed_greeting)"
   ]
  },
  {
   "attachments": {},
   "cell_type": "markdown",
   "metadata": {},
   "source": [
    "# Tipų konvertavimas"
   ]
  },
  {
   "cell_type": "code",
   "execution_count": null,
   "metadata": {},
   "outputs": [],
   "source": [
    "# Negalima konvertuoti String iš raidžių į Integer ar Float, bet galima jei String yra skaičius\n",
    "\n",
    "a = \"55\"\n",
    "b = int(a)\n",
    "c = float(a)\n",
    "print(b, c)\n",
    "\n",
    "a = 55\n",
    "b = int(a)\n",
    "c = float(a)\n",
    "print(b, c)\n"
   ]
  },
  {
   "attachments": {},
   "cell_type": "markdown",
   "metadata": {},
   "source": [
    "# Vartotojo įvestis"
   ]
  },
  {
   "cell_type": "code",
   "execution_count": null,
   "metadata": {},
   "outputs": [],
   "source": [
    "name = input(\"Enter you name: \")\n",
    "age = input(\"Enter yuo age: \")\n",
    "\n",
    "print(f\"You name is {name}, you age {age} years old\")"
   ]
  },
  {
   "attachments": {},
   "cell_type": "markdown",
   "metadata": {},
   "source": [
    "<p style =color:red;font-size:18px>Programa 1</p>\n",
    "<p>Sukurkite programą, leidžiančią vartotojui įvesti savo vardą ir amžių</p>\n",
    "<p>Apskaičiuoti metus, kuriais vartotojas gimė</p>\n",
    "<p>Išspausdinti atsakymą į terminalą</p>"
   ]
  },
  {
   "cell_type": "code",
   "execution_count": null,
   "metadata": {},
   "outputs": [],
   "source": [
    "import datetime # importuojama datetime biblioteka\n",
    "\n",
    "name = input(\"Input you name: \")\n",
    "age = int(input(\"How old are you ? : \")) # Kiek metų turi klausiamasis\n",
    "birthday = input(\"You birthday was until now (please answer Yes or No) ? : \") # Klausiama ar buvo iki šio laiko gimtadienis\n",
    "\n",
    "date_now = datetime.datetime.now() # Nustatoma dabartinė data\n",
    "\n",
    "# Pagal atsakymą kada buvo gimtadienis, tikrinamos sąlygos\n",
    "if birthday == 'Yes':\n",
    "    date_of_birth = int(date_now.strftime(\"%Y\")) - age  # int(date_now.strftime(\"%Y\")) Dabartinė data formatuojama taip kad būtų naudojami tik metai\n",
    "    print(f\"{name} you year of birth is {date_of_birth}\") # ir atimami tik turimi metai, nes gimtadienis jau buvo šiais metais\n",
    "if birthday == 'No':\n",
    "    date_of_birth = int(date_now.strftime(\"%Y\")) - age - 1 # int(date_now.strftime(\"%Y\")) dabartinė data formatuojama taip kad būtų naudojami tik metai\n",
    "    print(f\"{name} you year of birth is {date_of_birth}\") # ir atimami turimi metai ir dar vieni metai nes gimtadienio dar nebuvo šiais metais"
   ]
  },
  {
   "attachments": {},
   "cell_type": "markdown",
   "metadata": {},
   "source": [
    "<p style =color:red;font-size:18px>Programa 2</p>\n",
    "<p>Sukurti programą, leidžiančią vartotojui įvesti visą sakinį</p>\n",
    "<p>Išspausdinti sakinį atbuline tvarka</p>\n",
    "<p>Spausdinti kas antrą sakinio raidę</p>"
   ]
  },
  {
   "cell_type": "code",
   "execution_count": null,
   "metadata": {},
   "outputs": [],
   "source": [
    "sentence = str(input(\"Please write you sentence: \"))\n",
    "print(f\"You sentence is \\\"{sentence}\\\" and reversed \\\"{sentence[::-1]}\\\"\")\n",
    "print(f\"You sentence is  \\\"{sentence}\\\" and only all secont leter \\\" {sentence[::2]}\\\"\" )"
   ]
  },
  {
   "attachments": {},
   "cell_type": "markdown",
   "metadata": {},
   "source": [
    "<p style =color:red;font-size:18px>Užduotis 3</p>\n",
    "<p>Sukurkite programą, kuri tikisi, kad naudotojas įves du skaičius</p>\n",
    "<p>Padauginkite šiuos skaičius ir išspausdinkite atsakymą</p>\n",
    "<p>Sukurkite panašias programas su kitais ženklais.</p>"
   ]
  },
  {
   "cell_type": "code",
   "execution_count": null,
   "metadata": {},
   "outputs": [],
   "source": [
    "number_one = float(input(\"Please input number one: \"))  # tik float kintamasis, nes kai parinktas int tai vartotojui\n",
    "number_two = float(input(\"Please input number one: \"))  # įvedus float kintamąjį gaunama klaida\n",
    "\n",
    "print(f\"Multiplication of {number_one} and {number_two} is: \", number_one * number_two)"
   ]
  },
  {
   "attachments": {},
   "cell_type": "markdown",
   "metadata": {},
   "source": [
    "<p style =color:red;font-size:18px>String +</p>"
   ]
  },
  {
   "cell_type": "code",
   "execution_count": null,
   "metadata": {},
   "outputs": [],
   "source": [
    "name = input(\"Enter you name: \")\n",
    "age = input(\"Enter you age: \")\n",
    "\n",
    "print(f\"You name is {name} and age after one year will be\", int(age)+1)"
   ]
  },
  {
   "attachments": {},
   "cell_type": "markdown",
   "metadata": {},
   "source": [
    "<p style =color:red;font-size:18px>Užduotis</p>\n",
    "<p>Create program that allows user to enter text</p>\n",
    "<p>Convert that text to Leet speak 1337</p>\n",
    "<p>print outcome</p>"
   ]
  },
  {
   "cell_type": "code",
   "execution_count": null,
   "metadata": {},
   "outputs": [],
   "source": [
    "#sentence = str(input(\"Enter you text: \"))\n",
    "zodis = \"Code Academy\"\n",
    "\n",
    "\n",
    "leep_1 ={\n",
    "    'A':'4',\n",
    "    'B':'8'\n",
    "}\n",
    "def leep():\n",
    "    for key, value in leep_1.items():\n",
    "        print(f\"'{key}','{value}'\")\n",
    "        \n",
    "print(leep())\n",
    "print(zodis.replace(leep()))\n"
   ]
  }
 ],
 "metadata": {
  "kernelspec": {
   "display_name": "Python 3",
   "language": "python",
   "name": "python3"
  },
  "language_info": {
   "codemirror_mode": {
    "name": "ipython",
    "version": 3
   },
   "file_extension": ".py",
   "mimetype": "text/x-python",
   "name": "python",
   "nbconvert_exporter": "python",
   "pygments_lexer": "ipython3",
   "version": "3.10.6"
  },
  "orig_nbformat": 4,
  "vscode": {
   "interpreter": {
    "hash": "31f2aee4e71d21fbe5cf8b01ff0e069b9275f58929596ceb00d14d90e3e16cd6"
   }
  }
 },
 "nbformat": 4,
 "nbformat_minor": 2
}
