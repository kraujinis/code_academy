{
 "cells": [
  {
   "cell_type": "code",
   "execution_count": null,
   "metadata": {},
   "outputs": [],
   "source": [
    "a = 5\n",
    "print(a)\n",
    "\n",
    "b = 25\n",
    "print(b)"
   ]
  },
  {
   "cell_type": "code",
   "execution_count": null,
   "metadata": {},
   "outputs": [],
   "source": [
    "a = 5\n",
    "b = 25\n",
    "\n",
    "c = a + b      # suma\n",
    "print(c)\n",
    "\n",
    "c = a - b      # skirtumas\n",
    "print(\"-\", c)\n",
    "\n",
    "c = a * b      # daugyba\n",
    "print(\"*\", c)\n",
    "\n",
    "c = a / b      # dalyba\n",
    "print(\"/\",c)\n",
    "\n",
    "c = a // b     # sveikas skaičius\n",
    "print(\"//\",c)\n",
    "\n",
    "c = a % b      # liekana\n",
    "print(\"%\",c)\n",
    "\n",
    "c = a ** b    # kėlimas laipsniu\n",
    "print(\"**\",c)\n"
   ]
  },
  {
   "attachments": {},
   "cell_type": "markdown",
   "metadata": {},
   "source": [
    "# String"
   ]
  },
  {
   "cell_type": "code",
   "execution_count": null,
   "metadata": {},
   "outputs": [],
   "source": [
    "letter = \"a\"\n",
    "name = \"Code Academy\"\n",
    "sentence = \"I realy enjoy learning python !\"\n",
    "\n",
    "# String operacijos\n",
    "# C  | o | d |e |  |A |c |a |d |e |m |y |\n",
    "# 0  | 1 | 2 |3 |4 |5 |6 |7 |8 |9 |10|11| simbolio vieta iš kairės į dešinę\n",
    "# -12|-11|-10|-9|-8|-7|-6|-5|-4|-3|-2|-1| arba iš dešinės į kairę pusę\n",
    "\n",
    "print(name[5])  # Output A\n",
    "\n",
    "print(name[-2]) # Output m\n",
    "\n",
    "print(name[5:12]) # Output Academy, norit šiuo būdu išvesti pilną paskutinį žodį reikia nurodyti viena pozicija daugiau nei yra ženklų\n",
    "\n",
    "print(name[5:]) # Output Academy, šis variantas išveda viską kas yra nuo 5 ženklo ir į dešinę\n",
    "\n",
    "print(name[:4]) # Output Code; šis variantas išveda viską kas yra iš kairės iki 4 ženklo iš skyrus 4 ženklą\n",
    "\n",
    "print(name[5:12:2]) # Output Academy, [5:12:(nurodoma kas kelintą simbolį išvesti, pradedama skaičiuoti nuo pirmo simbolio)]print\n",
    "\n",
    "print(name[5::2])   # Output Aaey, tas pats kas prieš tai, paskutinis skaičius nurodo kas kelintą simbolį išvesti\n",
    "\n",
    "print(name[::-1])   # Output ymedacA edoC, string reversavimas\n",
    "\n",
    "print(name[3::-1])  # Output edoC\n",
    "\n",
    "print(name[12:3:-1])  # Output ymedacA\n",
    "\n",
    "print(name.split()) # Output ['Code', 'Academy'], gaunamas list (sąrašas)\n",
    "\n",
    "print(name.upper()) # Output CODE ACADEMY\n",
    "\n",
    "print(name.replace('c', 'k')) # Output Code Akademy, keičia tik mažąją c į k.\n",
    "\n",
    "greeting = \"Hello, my name is\"\n",
    "name = \"Tom\"\n",
    "\n",
    "completed_greeting = greeting + \" \" + name\n",
    "print(completed_greeting)"
   ]
  },
  {
   "attachments": {},
   "cell_type": "markdown",
   "metadata": {},
   "source": [
    "# Tipų konvertavimas"
   ]
  },
  {
   "cell_type": "code",
   "execution_count": null,
   "metadata": {},
   "outputs": [],
   "source": [
    "# Negalima konvertuoti String iš raidžių į Integer ar Float, bet galima jei String yra skaičius\n",
    "\n",
    "a = \"55\"\n",
    "b = int(a)\n",
    "c = float(a)\n",
    "print(b, c)\n",
    "\n",
    "a = 55\n",
    "b = int(a)\n",
    "c = float(a)\n",
    "print(b, c)\n"
   ]
  },
  {
   "attachments": {},
   "cell_type": "markdown",
   "metadata": {},
   "source": [
    "# Vartotojo įvestis"
   ]
  },
  {
   "cell_type": "code",
   "execution_count": null,
   "metadata": {},
   "outputs": [],
   "source": [
    "name = input(\"Enter you name: \")\n",
    "age = input(\"Enter yuo age: \")\n",
    "\n",
    "print(f\"You name is {name}, you age {age} years old\")"
   ]
  },
  {
   "attachments": {},
   "cell_type": "markdown",
   "metadata": {},
   "source": [
    "<p style =color:red;font-size:18px>Programa 1</p>\n",
    "<p>Sukurkite programą, leidžiančią vartotojui įvesti savo vardą ir amžių</p>\n",
    "<p>Apskaičiuoti metus, kuriais vartotojas gimė</p>\n",
    "<p>Išspausdinti atsakymą į terminalą</p>"
   ]
  },
  {
   "cell_type": "code",
   "execution_count": null,
   "metadata": {},
   "outputs": [],
   "source": [
    "import datetime\n",
    "\n",
    "name = input(\"Input you name: \")\n",
    "age = int(input(\"How old will be you in this year ? : \"))\n",
    "\n",
    "date_now = datetime.datetime.now() # Nustatoma dabartinė data\n",
    "date_of_birth = int(date_now.strftime(\"%Y\")) - age  # Dabartinė data formatuojama taip kad būtų naudojami tik metai ir atimami dabartiniai metai\n",
    "print(f\"{name} you year of birth is {date_of_birth}\")"
   ]
  },
  {
   "attachments": {},
   "cell_type": "markdown",
   "metadata": {},
   "source": [
    "<p style =color:red;font-size:18px>Programa 2</p>\n",
    "<p>Sukurti programą, leidžiančią vartotojui įvesti visą sakinį</p>\n",
    "<p>Išspausdinti sakinį atbuline tvarka</p>\n",
    "<p>Spausdinti kas antrą sakinio raidę</p>"
   ]
  },
  {
   "cell_type": "code",
   "execution_count": null,
   "metadata": {},
   "outputs": [],
   "source": [
    "sentence = str(input(\"Please write you sentence: \"))\n",
    "print(f\"You sentence is \\\"{sentence}\\\" and reversed \\\"{sentence[::-1]}\\\"\")\n",
    "print(f\"You sentence is  \\\"{sentence}\\\" and only all secont leter \\\" {sentence[::2]}\\\"\" )"
   ]
  },
  {
   "attachments": {},
   "cell_type": "markdown",
   "metadata": {},
   "source": [
    "<p style =color:red;font-size:18px>Užduotis 3</p>\n",
    "<p>Sukurkite programą, kuri tikisi, kad naudotojas įves du skaičius</p>\n",
    "<p>Padauginkite šiuos skaičius ir išspausdinkite atsakymą</p>\n",
    "<p>Sukurkite panašias programas su kitais ženklais.</p>"
   ]
  },
  {
   "cell_type": "code",
   "execution_count": 83,
   "metadata": {},
   "outputs": [
    {
     "name": "stdout",
     "output_type": "stream",
     "text": [
      "Multiplication of 20 and 20 is:  400\n"
     ]
    }
   ],
   "source": [
    "number_one = float(input(\"Please input number one: \"))\n",
    "number_two = float(input(\"Please input number one: \"))\n",
    "\n",
    "print(f\"Multiplication of {number_one} and {number_two} is: \", number_one * number_two)"
   ]
  },
  {
   "attachments": {},
   "cell_type": "markdown",
   "metadata": {},
   "source": [
    "<p style =color:red;font-size:18px>String +</p>"
   ]
  },
  {
   "cell_type": "code",
   "execution_count": null,
   "metadata": {},
   "outputs": [],
   "source": [
    "name = input(\"Enter you name: \")\n",
    "age = input(\"Enter you age: \")\n",
    "\n",
    "print(f\"You name is {name} and age after one year will be\", int(age)+1)"
   ]
  },
  {
   "attachments": {},
   "cell_type": "markdown",
   "metadata": {},
   "source": [
    "<p style =color:red;font-size:18px>Užduotis</p>\n",
    "Create program that allows user to enter text\n",
    "Convert that text to Leet speak 1337\n",
    "print outcome"
   ]
  },
  {
   "cell_type": "code",
   "execution_count": 95,
   "metadata": {},
   "outputs": [
    {
     "name": "stdout",
     "output_type": "stream",
     "text": [
      "'A','4'\n",
      "'B','8'\n",
      "None\n",
      "'A','4'\n",
      "'B','8'\n"
     ]
    },
    {
     "ename": "TypeError",
     "evalue": "replace expected at least 2 arguments, got 1",
     "output_type": "error",
     "traceback": [
      "\u001b[0;31m---------------------------------------------------------------------------\u001b[0m",
      "\u001b[0;31mTypeError\u001b[0m                                 Traceback (most recent call last)",
      "Cell \u001b[0;32mIn[95], line 14\u001b[0m\n\u001b[1;32m     11\u001b[0m         \u001b[39mprint\u001b[39m(\u001b[39mf\u001b[39m\u001b[39m\"\u001b[39m\u001b[39m'\u001b[39m\u001b[39m{\u001b[39;00mkey\u001b[39m}\u001b[39;00m\u001b[39m'\u001b[39m\u001b[39m,\u001b[39m\u001b[39m'\u001b[39m\u001b[39m{\u001b[39;00mvalue\u001b[39m}\u001b[39;00m\u001b[39m'\u001b[39m\u001b[39m\"\u001b[39m)\n\u001b[1;32m     13\u001b[0m \u001b[39mprint\u001b[39m(leep())\n\u001b[0;32m---> 14\u001b[0m \u001b[39mprint\u001b[39m(zodis\u001b[39m.\u001b[39;49mreplace(leep()))\n",
      "\u001b[0;31mTypeError\u001b[0m: replace expected at least 2 arguments, got 1"
     ]
    }
   ],
   "source": [
    "#sentence = str(input(\"Enter you text: \"))\n",
    "zodis = \"Code Academy\"\n",
    "\n",
    "\n",
    "leep_1 ={\n",
    "    'A':'4',\n",
    "    'B':'8'\n",
    "}\n",
    "def leep():\n",
    "    for key, value in leep_1.items():\n",
    "        print(f\"'{key}','{value}'\")\n",
    "        \n",
    "print(leep())\n",
    "print(zodis.replace(leep()))\n"
   ]
  }
 ],
 "metadata": {
  "kernelspec": {
   "display_name": "CA",
   "language": "python",
   "name": "python3"
  },
  "language_info": {
   "codemirror_mode": {
    "name": "ipython",
    "version": 3
   },
   "file_extension": ".py",
   "mimetype": "text/x-python",
   "name": "python",
   "nbconvert_exporter": "python",
   "pygments_lexer": "ipython3",
   "version": "3.10.6 (main, Nov 14 2022, 16:10:14) [GCC 11.3.0]"
  },
  "orig_nbformat": 4,
  "vscode": {
   "interpreter": {
    "hash": "7b9b1854771a17f0a04b6bb15075bbf17a502512d3fd688e04baea32a0559fb0"
   }
  }
 },
 "nbformat": 4,
 "nbformat_minor": 2
}
