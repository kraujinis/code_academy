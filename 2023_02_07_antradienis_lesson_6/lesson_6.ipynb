{
 "cells": [
  {
   "attachments": {},
   "cell_type": "markdown",
   "metadata": {},
   "source": [
    "For checking of the conditions, python support usual mathematical expressions:\n",
    "\n",
    "Equals: a == b\n",
    "Not Equals: a != b\n",
    "Less than: a < b\n",
    "Less than or equal to: a <= b\n",
    "Greater than: a > b\n",
    "Greater than or equal to: a >= b"
   ]
  },
  {
   "cell_type": "code",
   "execution_count": null,
   "metadata": {},
   "outputs": [],
   "source": [
    "number_1 = int(input(\"Enter you age: \"))\n",
    "\n",
    "\n",
    "if number_1 >= 18:\n",
    "    print(\"you allowed to enter\")\n",
    "elif number_1 == 5:\n",
    "    print(\"You entered 5\")\n",
    "elif number_1 < 5:\n",
    "    print(\"its les than 5\")\n",
    "else:\n",
    "    print(f\"you have entered {number_1} \")"
   ]
  },
  {
   "attachments": {},
   "cell_type": "markdown",
   "metadata": {},
   "source": [
    "short version of if ... else"
   ]
  },
  {
   "cell_type": "code",
   "execution_count": null,
   "metadata": {},
   "outputs": [],
   "source": [
    "a = 200\n",
    "b = 450\n",
    "print(\"A\") if a > b else print(\"B\")"
   ]
  },
  {
   "attachments": {},
   "cell_type": "markdown",
   "metadata": {},
   "source": [
    "3 conditions example:"
   ]
  },
  {
   "cell_type": "code",
   "execution_count": null,
   "metadata": {},
   "outputs": [],
   "source": [
    "a = 200\n",
    "b = 200\n",
    "print(\"A\") if a > b else print(\"=\") if a == b else print(\"B\")"
   ]
  },
  {
   "attachments": {},
   "cell_type": "markdown",
   "metadata": {},
   "source": [
    "and\n",
    "We have more logical operators that allow us to combine statements into more complex logic\n",
    "\n",
    "The and keyword is a logical operator, and is used to combine conditional statements: Basically both conditions must be true for statement to return True:"
   ]
  },
  {
   "cell_type": "code",
   "execution_count": null,
   "metadata": {},
   "outputs": [],
   "source": [
    "a = 200\n",
    "b = 400\n",
    "c = 500\n",
    "if c > a and c > b:\n",
    "    print(\"C is the greatest of them all!\")"
   ]
  },
  {
   "attachments": {},
   "cell_type": "markdown",
   "metadata": {},
   "source": [
    "or\n",
    "The or keyword is a logical operator, and is used to combine conditional statements: Basically atleast one of the conditions must be true for statement to return True:"
   ]
  },
  {
   "cell_type": "code",
   "execution_count": null,
   "metadata": {},
   "outputs": [],
   "source": [
    "a = 200\n",
    "b = 400\n",
    "c = 500\n",
    "if b > a or b > c:\n",
    "    print(\"B is at least greater than one of the values !\")"
   ]
  },
  {
   "attachments": {},
   "cell_type": "markdown",
   "metadata": {},
   "source": [
    "Nested if\n",
    "as we have seen with lists being able to carry other lists inside them, dictionaries having nested structures as well. There is no exception for if statements."
   ]
  },
  {
   "cell_type": "code",
   "execution_count": null,
   "metadata": {},
   "outputs": [],
   "source": [
    "x = 15\n",
    "\n",
    "if x > 10:\n",
    "  print(\"Above ten,\")\n",
    "  if x > 20:\n",
    "    print(\"and also above 20!\")\n",
    "  else:\n",
    "    print(\"but not above 20.\")"
   ]
  },
  {
   "attachments": {},
   "cell_type": "markdown",
   "metadata": {},
   "source": [
    "pass\n",
    "\n",
    "If we want to have an empty if statement for some reason we can simply do pass and nothing will happen."
   ]
  },
  {
   "cell_type": "code",
   "execution_count": null,
   "metadata": {},
   "outputs": [],
   "source": [
    "a = 50\n",
    "b = 80\n",
    "\n",
    "if b > a:\n",
    "  pass"
   ]
  },
  {
   "attachments": {},
   "cell_type": "markdown",
   "metadata": {},
   "source": [
    "If with string values\n",
    "We may also do logical operations on strings."
   ]
  },
  {
   "cell_type": "code",
   "execution_count": null,
   "metadata": {},
   "outputs": [],
   "source": [
    "name = \"Tom\"\n",
    "\n",
    "if name == \"Tom\": #trūksta dvitaškio :\n",
    "    print(\"Nice to see you Tom\")\n",
    "else:\n",
    "    print(\"welcome, user\")"
   ]
  },
  {
   "attachments": {},
   "cell_type": "markdown",
   "metadata": {},
   "source": [
    "What is more we can also combine this knowledge with lists as well!"
   ]
  },
  {
   "cell_type": "code",
   "execution_count": null,
   "metadata": {},
   "outputs": [],
   "source": [
    "user = \"Johnny\"\n",
    "privileged_users = [\"Tom\", \"Albert\", \"Stephen\"]\n",
    "if user in privileged_users:\n",
    "    print(f\"Welcome home {user}\")\n",
    "else:\n",
    "    print(\"INTRUDER ALLERT. Silently calling police...\")"
   ]
  },
  {
   "attachments": {},
   "cell_type": "markdown",
   "metadata": {},
   "source": [
    "Or even dictionaries:"
   ]
  },
  {
   "cell_type": "code",
   "execution_count": null,
   "metadata": {},
   "outputs": [],
   "source": [
    "my_dict = {\"name\": \"Steven\", \"born\": \"1955-02-24\", \"interests\": \"Apples\"}\n",
    "if my_dict[\"name\"] == \"Steven\":\n",
    "    print(\"This guy does not like Windows\")\n",
    "else:\n",
    "    print(\"No clue who this is\")"
   ]
  },
  {
   "attachments": {},
   "cell_type": "markdown",
   "metadata": {},
   "source": [
    "Or even:"
   ]
  },
  {
   "cell_type": "code",
   "execution_count": null,
   "metadata": {},
   "outputs": [],
   "source": [
    "my_dict = {\"name\": \"Bill\", \"born\": \"1955-10-28\", \"interests\": \"small software\"}\n",
    "if \"Bill\" in my_dict.values():\n",
    "    print(\"This guy hates apples\")\n",
    "else:\n",
    "    print(\"No clue who this is\")"
   ]
  },
  {
   "attachments": {},
   "cell_type": "markdown",
   "metadata": {},
   "source": [
    "shorter version of ifs\n",
    "in Python we like to do things easier to read, shorter, lighter. To make it more ZEN. For example if we want to check that user has entered a name at all . Instead of doing this:"
   ]
  },
  {
   "cell_type": "code",
   "execution_count": null,
   "metadata": {},
   "outputs": [],
   "source": [
    "...\n",
    "if name != \"\":\n",
    "  print(\"Name was not entered\")\n",
    "..."
   ]
  },
  {
   "attachments": {},
   "cell_type": "markdown",
   "metadata": {},
   "source": [
    "or"
   ]
  },
  {
   "cell_type": "code",
   "execution_count": null,
   "metadata": {},
   "outputs": [],
   "source": [
    "...\n",
    "if len(name) == 0:\n",
    "  print(\"Name was not entered\")\n",
    "..."
   ]
  },
  {
   "attachments": {},
   "cell_type": "markdown",
   "metadata": {},
   "source": [
    "do this"
   ]
  },
  {
   "cell_type": "code",
   "execution_count": 16,
   "metadata": {},
   "outputs": [],
   "source": [
    "if not name:\n",
    "  print(\"Name was not entered\")"
   ]
  },
  {
   "attachments": {},
   "cell_type": "markdown",
   "metadata": {},
   "source": [
    "same applied to other data structures as well"
   ]
  },
  {
   "cell_type": "code",
   "execution_count": 17,
   "metadata": {},
   "outputs": [
    {
     "name": "stdout",
     "output_type": "stream",
     "text": [
      "oh no, list is empty\n"
     ]
    }
   ],
   "source": [
    "my_list = []\n",
    "if not my_list:\n",
    "  print(\"oh no, list is empty\")"
   ]
  }
 ],
 "metadata": {
  "kernelspec": {
   "display_name": "Python 3",
   "language": "python",
   "name": "python3"
  },
  "language_info": {
   "codemirror_mode": {
    "name": "ipython",
    "version": 3
   },
   "file_extension": ".py",
   "mimetype": "text/x-python",
   "name": "python",
   "nbconvert_exporter": "python",
   "pygments_lexer": "ipython3",
   "version": "3.10.6 (main, Nov 14 2022, 16:10:14) [GCC 11.3.0]"
  },
  "orig_nbformat": 4,
  "vscode": {
   "interpreter": {
    "hash": "916dbcbb3f70747c44a77c7bcd40155683ae19c65e1c03b4aa3499c5328201f1"
   }
  }
 },
 "nbformat": 4,
 "nbformat_minor": 2
}
