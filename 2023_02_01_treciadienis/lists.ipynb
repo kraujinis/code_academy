{
 "cells": [
  {
   "attachments": {},
   "cell_type": "markdown",
   "metadata": {},
   "source": [
    "<p style = color:orange>Parašykite python programą, kuri susumuoja visus sąrašo elementus (visi sąrašo elementai yra sveikieji arba kintamieji skaičiai, sąrašą sukurkite patys).</p>"
   ]
  },
  {
   "cell_type": "code",
   "execution_count": null,
   "metadata": {},
   "outputs": [],
   "source": [
    "my_list = [1, 17, 0.1, 14, 47]\n",
    "\n",
    "print(sum(my_list))"
   ]
  },
  {
   "attachments": {},
   "cell_type": "markdown",
   "metadata": {},
   "source": [
    "<p style = font-size:17px>Tuples</p>"
   ]
  },
  {
   "cell_type": "code",
   "execution_count": null,
   "metadata": {},
   "outputs": [],
   "source": [
    "my_list = (1, 17, 0.1, 14, 47)\n",
    "\n",
    "print(sum(my_list))"
   ]
  },
  {
   "attachments": {},
   "cell_type": "markdown",
   "metadata": {},
   "source": [
    "<p style = color:orange>Parašykite python programą, kuri padaugina visus sąrašo elementus (visi sąrašo elementai yra sveikieji skaičiai arba slankiosios vertės, sąrašą sukurkite patys)</p>"
   ]
  },
  {
   "cell_type": "code",
   "execution_count": null,
   "metadata": {},
   "outputs": [],
   "source": [
    "my_list = [1, 17, 0.1, 14, 47]\n",
    "\n",
    "x = 1\n",
    "\n",
    "for number in my_list:\n",
    "    x = number * x # prieš ciklo pradžią x = 1 ir dauginama iš sąrašo 1 elemento (1 (esama reikšmė))\n",
    "    print(x) # tada x(1) = 1 * 1, >> x(1) = 17 * 1 >> x(17) = 0.1 * 17 >> x(1.7) = 14 * 1.7 ir t.t \n",
    "print(x)"
   ]
  },
  {
   "attachments": {},
   "cell_type": "markdown",
   "metadata": {},
   "source": [
    "<p style = font-size:17px>Tuples</p>"
   ]
  },
  {
   "cell_type": "code",
   "execution_count": null,
   "metadata": {},
   "outputs": [],
   "source": [
    "my_list = (1, 17, 0.1, 14, 47)\n",
    "for item in my_list:\n",
    "    x = number * x\n",
    "print(x)"
   ]
  },
  {
   "attachments": {},
   "cell_type": "markdown",
   "metadata": {},
   "source": [
    "<p style = color:orange>Parašykite python programą, kuri iš sąrašo gauna didžiausią vertę (visi sąrašo elementai yra sveikieji skaičiai arba plaukiojantieji dydžiai, patys sukurkite sąrašą)</p>"
   ]
  },
  {
   "cell_type": "code",
   "execution_count": null,
   "metadata": {},
   "outputs": [],
   "source": [
    "my_list = [1, 17, 0.1, 14, 47]\n",
    "\n",
    "print(max(my_list))"
   ]
  },
  {
   "attachments": {},
   "cell_type": "markdown",
   "metadata": {},
   "source": [
    "Tuples"
   ]
  },
  {
   "cell_type": "code",
   "execution_count": null,
   "metadata": {},
   "outputs": [],
   "source": [
    "my_list = (1, 17, 0.1, 14, 47)\n",
    "\n",
    "print(max(my_list))"
   ]
  },
  {
   "attachments": {},
   "cell_type": "markdown",
   "metadata": {},
   "source": [
    "<p style = color:orange>Parašykite python programą, kuri sujungia visas sąraše esančias eilutes (visi elementai yra eilutės, sąrašą sukurkite patys)</p>"
   ]
  },
  {
   "cell_type": "code",
   "execution_count": null,
   "metadata": {},
   "outputs": [],
   "source": [
    "my_list = ['b', 'a', 'b', 'u', 'l', 'i', 'a']\n",
    "\n",
    "for i in my_list:\n",
    "    print(i, end=\"\")"
   ]
  },
  {
   "attachments": {},
   "cell_type": "markdown",
   "metadata": {},
   "source": [
    "Tuple"
   ]
  },
  {
   "cell_type": "code",
   "execution_count": null,
   "metadata": {},
   "outputs": [],
   "source": [
    "my_list = ('b', 'a', 'b', 'u', 'l', 'i', 'a')\n",
    "\n",
    "for i in my_list:\n",
    "    print(i, end=\"\")"
   ]
  },
  {
   "attachments": {},
   "cell_type": "markdown",
   "metadata": {},
   "source": [
    "<p style = color:orange>Sukurkite du sąrašus ir juos sudėkite, įsitikinkite, kad viskas veikia taip, kaip norite.</p>"
   ]
  },
  {
   "cell_type": "code",
   "execution_count": null,
   "metadata": {},
   "outputs": [],
   "source": [
    "my_list = [1, 17, 0.1, 14, 47]\n",
    "my_list_s = [2, 1.7, 41, 14, 47]\n",
    "\n",
    "my_list_added = my_list + my_list_s\n",
    "print(my_list_added)\n"
   ]
  },
  {
   "attachments": {},
   "cell_type": "markdown",
   "metadata": {},
   "source": [
    "Tuple"
   ]
  },
  {
   "cell_type": "code",
   "execution_count": null,
   "metadata": {},
   "outputs": [],
   "source": [
    "my_list = (1, 17, 0.1, 14, 47)\n",
    "my_list_s = (2, 1.7, 41, 14, 47)\n",
    "\n",
    "my_list_added = my_list + my_list_s\n",
    "print(my_list_added)"
   ]
  },
  {
   "attachments": {},
   "cell_type": "markdown",
   "metadata": {},
   "source": [
    "<p style = color:orange>Parašykite python programą, kuri paprašytų naudotojo įvesti 3 sveikuosius skaičius ir rastų didžiausią įvestą reikšmę.</p>"
   ]
  },
  {
   "cell_type": "code",
   "execution_count": null,
   "metadata": {},
   "outputs": [],
   "source": [
    "number_one = int(input(\"Please write number one: \"))\n",
    "number_two = int(input(\"Please write number two: \"))\n",
    "number_three = int(input(\"Please write number three: \"))\n",
    "\n",
    "my_list = []\n",
    "my_list.append(number_one)\n",
    "my_list.append(number_two)\n",
    "my_list.append(number_three)\n",
    "\n",
    "\n",
    "print(my_list)\n",
    "print(\"max number in list: \", max(my_list))"
   ]
  },
  {
   "attachments": {},
   "cell_type": "markdown",
   "metadata": {},
   "source": [
    "Arba"
   ]
  },
  {
   "cell_type": "code",
   "execution_count": null,
   "metadata": {},
   "outputs": [],
   "source": [
    "number_one = int(input(\"Please write number one: \"))\n",
    "number_two = int(input(\"Please write number two: \"))\n",
    "number_three = int(input(\"Please write number three: \"))\n",
    "\n",
    "my_list = [number_one, number_two, number_three]\n",
    "\n",
    "print(my_list)\n",
    "print(\"max number in list: \", max(my_list))"
   ]
  },
  {
   "attachments": {},
   "cell_type": "markdown",
   "metadata": {},
   "source": [
    "Tuple"
   ]
  },
  {
   "cell_type": "code",
   "execution_count": null,
   "metadata": {},
   "outputs": [],
   "source": [
    "number_one = int(input(\"Please write number one: \"))\n",
    "number_two = int(input(\"Please write number two: \"))\n",
    "number_three = int(input(\"Please write number three: \"))\n",
    "\n",
    "my_list = []\n",
    "my_list.append(number_one)\n",
    "my_list.append(number_two)\n",
    "my_list.append(number_three)\n",
    "\n",
    "my_list_list = list(my_list)\n",
    "\n",
    "print(my_list)\n",
    "print(\"max number in list: \", max(my_list_list))"
   ]
  },
  {
   "attachments": {},
   "cell_type": "markdown",
   "metadata": {},
   "source": [
    "<ol style = color:orange> \n",
    "    <li>Create 4 digit pin code that is either string or int.</li>\n",
    "    <li>Create brute force algorithm that finds the correct pin code.</li>\n",
    "    <li>Print that code.</li>\n",
    "</ol>"
   ]
  },
  {
   "cell_type": "code",
   "execution_count": null,
   "metadata": {},
   "outputs": [],
   "source": [
    "# šaltinis: https://medium.com/@ben.nour_68691/cracking-a-virtual-4-digit-combination-lock-using-python-d0d186712eed\n",
    "import itertools\n",
    "\n",
    "code = 25646\n",
    "digits = list(range(0, 10))\n",
    "\n",
    "for permutation in itertools.product(digits, repeat=5):\n",
    "    permutation_list = [str(digit) for digit in permutation]     # sudaromas kobinacijų sąrašas str tipo /-->  ['0', '0', '0', '1', '2']\n",
    "    print(permutation_list) # FTEST --> for test\n",
    "    permutation = \"\".join(permutation_list) # sujungiami elementai sąraše /--> 12\n",
    "    permutation = int(permutation)  # konvertuojama į int tipo kintamuosius\n",
    "    print(permutation)  # FTEST\n",
    "    if permutation == code: # tikrinama ar sukurta kombinacija sutampa su esama\n",
    "        print(f\"Code unlocked: {permutation}\") # jei taip, tai ji atspausdinama\n",
    "        break\n"
   ]
  }
 ],
 "metadata": {
  "kernelspec": {
   "display_name": "CA",
   "language": "python",
   "name": "python3"
  },
  "language_info": {
   "codemirror_mode": {
    "name": "ipython",
    "version": 3
   },
   "file_extension": ".py",
   "mimetype": "text/x-python",
   "name": "python",
   "nbconvert_exporter": "python",
   "pygments_lexer": "ipython3",
   "version": "3.10.6 (main, Nov 14 2022, 16:10:14) [GCC 11.3.0]"
  },
  "orig_nbformat": 4,
  "vscode": {
   "interpreter": {
    "hash": "7b9b1854771a17f0a04b6bb15075bbf17a502512d3fd688e04baea32a0559fb0"
   }
  }
 },
 "nbformat": 4,
 "nbformat_minor": 2
}
