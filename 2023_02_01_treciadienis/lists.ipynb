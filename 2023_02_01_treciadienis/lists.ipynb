{
 "cells": [
  {
   "attachments": {},
   "cell_type": "markdown",
   "metadata": {},
   "source": [
    "<p style = color:orange>Parašykite python programą, kuri susumuoja visus sąrašo elementus (visi sąrašo elementai yra sveikieji arba kintamieji skaičiai, sąrašą sukurkite patys).</p>"
   ]
  },
  {
   "cell_type": "code",
   "execution_count": null,
   "metadata": {},
   "outputs": [],
   "source": [
    "my_list = [1, 17, 0.1, 14, 47]\n",
    "\n",
    "print(sum(my_list))"
   ]
  },
  {
   "attachments": {},
   "cell_type": "markdown",
   "metadata": {},
   "source": [
    "<p style = font-size:17px>Tuples</p>"
   ]
  },
  {
   "cell_type": "code",
   "execution_count": null,
   "metadata": {},
   "outputs": [],
   "source": [
    "my_list = (1, 17, 0.1, 14, 47)\n",
    "\n",
    "print(sum(my_list))"
   ]
  },
  {
   "attachments": {},
   "cell_type": "markdown",
   "metadata": {},
   "source": [
    "<p style = color:orange>Parašykite python programą, kuri padaugina visus sąrašo elementus (visi sąrašo elementai yra sveikieji skaičiai arba slankiosios vertės, sąrašą sukurkite patys)</p>"
   ]
  },
  {
   "cell_type": "code",
   "execution_count": null,
   "metadata": {},
   "outputs": [],
   "source": [
    "my_list = [1, 17, 0.1, 14, 47]\n",
    "\n",
    "x = 1\n",
    "\n",
    "for number in my_list:\n",
    "    x = number * x # prieš ciklo pradžią x = 1 ir dauginama iš sąrašo 1 elemento (1 (esama reikšmė))\n",
    "    print(x) # tada x(1) = 1 * 1, >> x(1) = 17 * 1 >> x(17) = 0.1 * 17 >> x(1.7) = 14 * 1.7 ir t.t \n",
    "print(x)"
   ]
  },
  {
   "attachments": {},
   "cell_type": "markdown",
   "metadata": {},
   "source": [
    "<p style = font-size:17px>Tuples</p>"
   ]
  },
  {
   "cell_type": "code",
   "execution_count": null,
   "metadata": {},
   "outputs": [],
   "source": [
    "my_list = (1, 17, 0.1, 14, 47)\n",
    "for item in my_list:\n",
    "    x = number * x\n",
    "print(x)"
   ]
  },
  {
   "attachments": {},
   "cell_type": "markdown",
   "metadata": {},
   "source": [
    "<p style = color:orange>Parašykite python programą, kuri iš sąrašo gauna didžiausią vertę (visi sąrašo elementai yra sveikieji skaičiai arba plaukiojantieji dydžiai, patys sukurkite sąrašą)</p>"
   ]
  },
  {
   "cell_type": "code",
   "execution_count": null,
   "metadata": {},
   "outputs": [],
   "source": [
    "my_list = [1, 17, 0.1, 14, 47]\n",
    "\n",
    "print(max(my_list))"
   ]
  },
  {
   "attachments": {},
   "cell_type": "markdown",
   "metadata": {},
   "source": [
    "Tuples"
   ]
  },
  {
   "cell_type": "code",
   "execution_count": null,
   "metadata": {},
   "outputs": [],
   "source": [
    "my_list = (1, 17, 0.1, 14, 47)\n",
    "\n",
    "print(max(my_list))"
   ]
  },
  {
   "attachments": {},
   "cell_type": "markdown",
   "metadata": {},
   "source": [
    "<p style = color:orange>Parašykite python programą, kuri sujungia visas sąraše esančias eilutes (visi elementai yra eilutės, sąrašą sukurkite patys)</p>"
   ]
  },
  {
   "cell_type": "code",
   "execution_count": null,
   "metadata": {},
   "outputs": [],
   "source": [
    "my_list = ['b', 'a', 'b', 'u', 'l', 'i', 'a']\n",
    "\n",
    "for i in my_list:\n",
    "    print(i, end=\"\")"
   ]
  },
  {
   "attachments": {},
   "cell_type": "markdown",
   "metadata": {},
   "source": [
    "Tuple"
   ]
  },
  {
   "cell_type": "code",
   "execution_count": null,
   "metadata": {},
   "outputs": [],
   "source": [
    "my_list = ('b', 'a', 'b', 'u', 'l', 'i', 'a')\n",
    "\n",
    "for i in my_list:\n",
    "    print(i, end=\"\")"
   ]
  },
  {
   "attachments": {},
   "cell_type": "markdown",
   "metadata": {},
   "source": [
    "<p style = color:orange>Sukurkite du sąrašus ir juos sudėkite, įsitikinkite, kad viskas veikia taip, kaip norite.</p>"
   ]
  },
  {
   "cell_type": "code",
   "execution_count": null,
   "metadata": {},
   "outputs": [],
   "source": [
    "my_list = [1, 17, 0.1, 14, 47]\n",
    "my_list_s = [2, 1.7, 41, 14, 47]\n",
    "\n",
    "my_list_added = my_list + my_list_s\n",
    "print(my_list_added)\n"
   ]
  },
  {
   "attachments": {},
   "cell_type": "markdown",
   "metadata": {},
   "source": [
    "Tuple"
   ]
  },
  {
   "cell_type": "code",
   "execution_count": null,
   "metadata": {},
   "outputs": [],
   "source": [
    "my_list = (1, 17, 0.1, 14, 47)\n",
    "my_list_s = (2, 1.7, 41, 14, 47)\n",
    "\n",
    "my_list_added = my_list + my_list_s\n",
    "print(my_list_added)"
   ]
  },
  {
   "attachments": {},
   "cell_type": "markdown",
   "metadata": {},
   "source": [
    "<p style = color:orange>Parašykite python programą, kuri paprašytų naudotojo įvesti 3 sveikuosius skaičius ir rastų didžiausią įvestą reikšmę.</p>"
   ]
  },
  {
   "cell_type": "code",
   "execution_count": null,
   "metadata": {},
   "outputs": [],
   "source": [
    "number_one = int(input(\"Please write number one: \"))\n",
    "number_two = int(input(\"Please write number two: \"))\n",
    "number_three = int(input(\"Please write number three: \"))\n",
    "\n",
    "my_list = []\n",
    "my_list.append(number_one)\n",
    "my_list.append(number_two)\n",
    "my_list.append(number_three)\n",
    "\n",
    "\n",
    "print(my_list)\n",
    "print(\"max number in list: \", max(my_list))"
   ]
  },
  {
   "attachments": {},
   "cell_type": "markdown",
   "metadata": {},
   "source": [
    "Arba"
   ]
  },
  {
   "cell_type": "code",
   "execution_count": null,
   "metadata": {},
   "outputs": [],
   "source": [
    "number_one = int(input(\"Please write number one: \"))\n",
    "number_two = int(input(\"Please write number two: \"))\n",
    "number_three = int(input(\"Please write number three: \"))\n",
    "\n",
    "my_list = [number_one, number_two, number_three]\n",
    "\n",
    "print(my_list)\n",
    "print(\"max number in list: \", max(my_list))"
   ]
  },
  {
   "attachments": {},
   "cell_type": "markdown",
   "metadata": {},
   "source": [
    "Tuple"
   ]
  },
  {
   "cell_type": "code",
   "execution_count": null,
   "metadata": {},
   "outputs": [],
   "source": [
    "number_one = int(input(\"Please write number one: \"))\n",
    "number_two = int(input(\"Please write number two: \"))\n",
    "number_three = int(input(\"Please write number three: \"))\n",
    "\n",
    "my_list = []\n",
    "my_list.append(number_one)\n",
    "my_list.append(number_two)\n",
    "my_list.append(number_three)\n",
    "\n",
    "my_list_list = list(my_list)\n",
    "\n",
    "print(my_list)\n",
    "print(\"max number in list: \", max(my_list_list))"
   ]
  },
  {
   "attachments": {},
   "cell_type": "markdown",
   "metadata": {},
   "source": [
    "1. create 4 digit pin code that is either string or int\n",
    " \n",
    "2. create brute force algorithm that finds the correct pin code.\n",
    " \n",
    "3. print that code"
   ]
  },
  {
   "cell_type": "code",
   "execution_count": null,
   "metadata": {},
   "outputs": [],
   "source": [
    "import itertools\n",
    "\n",
    "pin = \"1234\"\n",
    "\n",
    "digits = list(range(0, 10))\n",
    "\n",
    "for permutation in itertools.product(digits, repeat=4):\n",
    "    print(permutation)\n",
    "\n",
    "\n",
    "\n",
    "\n",
    "\n",
    "\n"
   ]
  }
 ],
 "metadata": {
  "kernelspec": {
   "display_name": "Python 3",
   "language": "python",
   "name": "python3"
  },
  "language_info": {
   "codemirror_mode": {
    "name": "ipython",
    "version": 3
   },
   "file_extension": ".py",
   "mimetype": "text/x-python",
   "name": "python",
   "nbconvert_exporter": "python",
   "pygments_lexer": "ipython3",
   "version": "3.10.6"
  },
  "orig_nbformat": 4,
  "vscode": {
   "interpreter": {
    "hash": "916dbcbb3f70747c44a77c7bcd40155683ae19c65e1c03b4aa3499c5328201f1"
   }
  }
 },
 "nbformat": 4,
 "nbformat_minor": 2
}
