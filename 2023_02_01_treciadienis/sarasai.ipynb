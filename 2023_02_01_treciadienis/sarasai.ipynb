{
 "cells": [
  {
   "attachments": {},
   "cell_type": "markdown",
   "metadata": {},
   "source": [
    "<p style = color:red;font-size:16px>Sąrašai</p><p style = color:pink;font-size:16px>.append()</p>\n"
   ]
  },
  {
   "cell_type": "code",
   "execution_count": null,
   "metadata": {},
   "outputs": [],
   "source": [
    "my_list = []    # tuščias sąrašas\n",
    "\n",
    "name = \"Tom\"    # reikšmė kuri dar nenaudojama\n",
    "my_list.append(name)    # į sąrašą įtraukiamas \"Tom\"\n",
    "print(my_list)  # spausdinamas atnaujintas sąrašas /--> ['Tom']"
   ]
  },
  {
   "attachments": {},
   "cell_type": "markdown",
   "metadata": {},
   "source": [
    "<p style = color:pink; font-size:12px>.count()</p>"
   ]
  },
  {
   "cell_type": "code",
   "execution_count": null,
   "metadata": {},
   "outputs": [],
   "source": [
    "my_list = [1, 1, 2, 3, 4, 5]\n",
    "\n",
    "print(my_list.count(1)) # patikrinama kiek yra 1 (vienetų) my_list sąraše /--> 2"
   ]
  },
  {
   "attachments": {},
   "cell_type": "markdown",
   "metadata": {},
   "source": [
    "<p style = color:pink;font-size:16px>.insert()</p>"
   ]
  },
  {
   "cell_type": "code",
   "execution_count": null,
   "metadata": {},
   "outputs": [],
   "source": [
    "my_list = [1, 1, 2, 3, 4, 5]\n",
    "#         |0 |1 |3 |4 |5 |6  kintamojo vieta sąraše iš dešinės į kairę\n",
    "\n",
    "my_list.insert(1, 50)   # įterpiamas skaičius 50 į sąrašo vietą 1, /--> [1, 50, 1, 2, 3, 4, 5]\n",
    "print(my_list)"
   ]
  },
  {
   "attachments": {},
   "cell_type": "markdown",
   "metadata": {},
   "source": [
    "<p style = color:pink;font-size:16px>.remove()</p>"
   ]
  },
  {
   "cell_type": "code",
   "execution_count": null,
   "metadata": {},
   "outputs": [],
   "source": [
    "my_list = [1, 1, 2, 3, 4, 5]\n",
    "\n",
    "my_list.remove(3)   # pašalinama reikšmė 3 iš sąrašo /--> [1, 1, 2, 4, 5]\n",
    "print(my_list)"
   ]
  },
  {
   "cell_type": "code",
   "execution_count": null,
   "metadata": {},
   "outputs": [],
   "source": [
    "my_list = [1, 1, 2, 3, 4, 5]\n",
    "\n",
    "my_list.remove(my_list[-1]) # pašalinama paskutinė sąrašo reikšmė 5, /--> [1, 1, 2, 3, 4]\n",
    "print(my_list)"
   ]
  },
  {
   "attachments": {},
   "cell_type": "markdown",
   "metadata": {},
   "source": [
    "<p style = color:pink;font-size:16px>len()</p>"
   ]
  },
  {
   "cell_type": "code",
   "execution_count": null,
   "metadata": {},
   "outputs": [],
   "source": [
    "my_list = [\"name\", 123, None, True]\n",
    "print(len(my_list)) # išveda kiek elementų yra sąraše, šiuo atveju yra 4 /--> 4"
   ]
  },
  {
   "attachments": {},
   "cell_type": "markdown",
   "metadata": {},
   "source": [
    "<p style = color:pink;font-size:16px>max()</p>"
   ]
  },
  {
   "cell_type": "code",
   "execution_count": null,
   "metadata": {},
   "outputs": [],
   "source": [
    "my_list = [50, 99, 1, -50]\n",
    "print(max(my_list)) # išvedamas didžiausias skaičius esantis sąraše /--> 99"
   ]
  },
  {
   "attachments": {},
   "cell_type": "markdown",
   "metadata": {},
   "source": [
    "<p style = color:brown;font-size:16px>min()</p>"
   ]
  },
  {
   "cell_type": "code",
   "execution_count": null,
   "metadata": {},
   "outputs": [],
   "source": [
    "my_list = [50, 99, 1, -50]\n",
    "print(min(my_list)) # išvedamas mažiausias skaičius esantis sąraše /--> -50"
   ]
  },
  {
   "attachments": {},
   "cell_type": "markdown",
   "metadata": {},
   "source": [
    "<p style = color:brown;font-size:16px>Iteracija - proceso kartojimas</p>"
   ]
  },
  {
   "cell_type": "code",
   "execution_count": null,
   "metadata": {},
   "outputs": [],
   "source": [
    "my_list = [1, 2, 3]\n",
    "for item in my_list:\n",
    "    print(item) # paimamas kiekvienas objektas iš sąrašo einat iš kairės į dešinę ir atspasudinama stulpeliu /--> 1, 2, 3"
   ]
  },
  {
   "cell_type": "code",
   "execution_count": null,
   "metadata": {},
   "outputs": [],
   "source": [
    "my_list = [1, 2, 3]\n",
    "for item in my_list:\n",
    "    print(item + 20) # paimamas kiekvienas objektas iš sąrašo einat iš kairės į dešinę ir pridedama 20, atspasudinama stulpeliu /--> 21, 22, 23"
   ]
  },
  {
   "cell_type": "code",
   "execution_count": null,
   "metadata": {},
   "outputs": [],
   "source": [
    "my_list = [1, 2, 3]\n",
    "#         |0,|1,|2 elementų vieta sąraše, index\n",
    "my_list[2] = 5  # pakeičiamas elementas esantis 2 vietoje, vietoj 3 pakeičiama į 5 /--> [1, 2, 5]\n",
    "print(my_list)"
   ]
  },
  {
   "attachments": {},
   "cell_type": "markdown",
   "metadata": {},
   "source": [
    "<p style = color:brown;font-size:16px>Sąrašų pjaustymas</p>"
   ]
  },
  {
   "cell_type": "code",
   "execution_count": null,
   "metadata": {},
   "outputs": [],
   "source": [
    "my_list = [\"first\", \"second\", \"third\",[1, 5, 6, [\"fourth\"]]]\n",
    "print(my_list[-1])  # paimamas paskutinis elementas iš sąrašo /--> [1, 5, 6, ['fourth']]\n",
    "print(my_list[:1])  # paimamas pirmas elementas /--> ['first']\n",
    "print(my_list[::2]) #  spausdinamas kas antras elementas /--> ['first', 'third']\n",
    "print(my_list[::-1])    # apsukamas sąrašas /--> [[1, 5, 6, ['fourth']], 'third', 'second', 'first']\n",
    "print(my_list[0:2]) # paimamas pirmas ir antras elementas /--> ['first', 'second']\n",
    "print(my_list[1][2]) # paimama reikšmė second ir iš jos c raidė /--> c\n",
    "print(my_list[-1][-1][0])   # /--> fourth\n",
    "print(my_list[-1][-1][0][-1])   # /--> h\n",
    "\n"
   ]
  },
  {
   "cell_type": "code",
   "execution_count": null,
   "metadata": {},
   "outputs": [],
   "source": [
    "my_list = [1, 2, 3]\n",
    "print(1 in my_list) # patikrinama ar sąraše yra 1, jei taip tai atsakymas True"
   ]
  },
  {
   "attachments": {},
   "cell_type": "markdown",
   "metadata": {},
   "source": [
    "<p style = color:brown;font-size:16px>Tuple</p>\n",
    "<p style = color:brown;font-size:16px>Tuple yra nekintantis, naudoti su nekintamais duomenimis.</p>"
   ]
  },
  {
   "cell_type": "code",
   "execution_count": null,
   "metadata": {},
   "outputs": [],
   "source": [
    "empty_tuple = ()\n",
    "tuple_single_item = (1,)\n",
    "another_tuple = (1, 2, 3)\n",
    "\n",
    "print(empty_tuple)\n",
    "print(tuple_single_item)\n",
    "print(another_tuple)"
   ]
  }
 ],
 "metadata": {
  "kernelspec": {
   "display_name": "CA",
   "language": "python",
   "name": "python3"
  },
  "language_info": {
   "codemirror_mode": {
    "name": "ipython",
    "version": 3
   },
   "file_extension": ".py",
   "mimetype": "text/x-python",
   "name": "python",
   "nbconvert_exporter": "python",
   "pygments_lexer": "ipython3",
   "version": "3.10.6 (main, Nov 14 2022, 16:10:14) [GCC 11.3.0]"
  },
  "orig_nbformat": 4,
  "vscode": {
   "interpreter": {
    "hash": "7b9b1854771a17f0a04b6bb15075bbf17a502512d3fd688e04baea32a0559fb0"
   }
  }
 },
 "nbformat": 4,
 "nbformat_minor": 2
}
