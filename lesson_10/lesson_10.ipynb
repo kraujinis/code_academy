{
 "cells": [
  {
   "attachments": {},
   "cell_type": "markdown",
   "metadata": {},
   "source": [
    "## Lesson 10: Functions\n",
    "Jump to bottom\n",
    "Mindaugeliseth edited this page 3 weeks ago · 46 revisions\n",
    "\n",
    "***\n",
    "Introduction\n",
    "***\n",
    "What is a function? Functions are a convenient way to divide your code into useful blocks, allowing us to order our code, make it more readable, reuse it and save some time. Also functions are a key way to define interfaces so programmers can share their code. In Python, you define a function with the def keyword, then write the function identifier (name) followed by parentheses and a colon. The next thing you have to do is make sure you indent with a tab or 4 spaces, and then specify what you want the function to do for you."
   ]
  },
  {
   "cell_type": "code",
   "execution_count": null,
   "metadata": {},
   "outputs": [],
   "source": [
    "def function_name():\n",
    "    # What to make the function do"
   ]
  },
  {
   "attachments": {},
   "cell_type": "markdown",
   "metadata": {},
   "source": [
    "A simple example - functions that prints 'Hello world':"
   ]
  },
  {
   "cell_type": "code",
   "execution_count": null,
   "metadata": {},
   "outputs": [],
   "source": [
    "def print_smth():\n",
    "    print(\"hello world\")\n",
    "\n",
    "print_smth()"
   ]
  },
  {
   "cell_type": "code",
   "execution_count": null,
   "metadata": {},
   "outputs": [],
   "source": [
    "a = 2\n",
    "b = 5\n",
    "\n",
    "def addition(number1, number2):\n",
    "    sum = number1 + number2\n",
    "    return sum\n",
    "    # return number1 + number2 # galimas ir toks variantas\n",
    "\n",
    "c = addition(a, b)\n",
    "\n",
    "print(c)\n"
   ]
  },
  {
   "attachments": {},
   "cell_type": "markdown",
   "metadata": {},
   "source": [
    "Or prints random int number from 0 to 10:"
   ]
  },
  {
   "cell_type": "code",
   "execution_count": null,
   "metadata": {},
   "outputs": [],
   "source": [
    "import random\n",
    "\n",
    "def get_random_number():\n",
    "    print(random.randint(0,10))\n",
    "\n",
    "get_random_number()"
   ]
  },
  {
   "attachments": {},
   "cell_type": "markdown",
   "metadata": {},
   "source": [
    "Just like built-in functions, user-defined functions are called using the function name followed by parenthesis :"
   ]
  },
  {
   "cell_type": "code",
   "execution_count": null,
   "metadata": {},
   "outputs": [],
   "source": [
    "get_random_number()\n",
    "print_smth()"
   ]
  },
  {
   "attachments": {},
   "cell_type": "markdown",
   "metadata": {},
   "source": [
    "## Naming\n",
    "***\n",
    "Choosing names for your variables, functions and/or classes, and so forth can be challenging. You should put a fair amount of thought into your naming choices when writing code as it will make your code more readable. The best way to name your objects in Python is to use descriptive names to make it clear what the object represents. Main rules as follows:\n",
    "\n",
    "    Use only lowercase in method names."
   ]
  },
  {
   "cell_type": "code",
   "execution_count": null,
   "metadata": {},
   "outputs": [],
   "source": [
    "def compute():\n",
    "    pass"
   ]
  },
  {
   "attachments": {},
   "cell_type": "markdown",
   "metadata": {},
   "source": [
    "    An underscore should separate words in a method name."
   ]
  },
  {
   "cell_type": "code",
   "execution_count": null,
   "metadata": {},
   "outputs": [],
   "source": [
    "def calculate_smth():\n",
    "    pass"
   ]
  },
  {
   "attachments": {},
   "cell_type": "markdown",
   "metadata": {},
   "source": [
    "    Non-public method name should begin with a single underscore."
   ]
  },
  {
   "cell_type": "code",
   "execution_count": null,
   "metadata": {},
   "outputs": [],
   "source": [
    "def _get_smth():\n",
    "    pass"
   ]
  },
  {
   "attachments": {},
   "cell_type": "markdown",
   "metadata": {},
   "source": [
    "Use two consecutive underscores at the beginning of a method name, if it needs to be mangled.\n"
   ]
  },
  {
   "cell_type": "code",
   "execution_count": null,
   "metadata": {},
   "outputs": [],
   "source": [
    "def __get_secret():\n",
    "    pass"
   ]
  },
  {
   "attachments": {},
   "cell_type": "markdown",
   "metadata": {},
   "source": [
    "A very good source of naming rules and examples are here: <a href = \"https://melevir.medium.com/python-functions-naming-tips-376f12549f9\">Python Function Naming</a> exclamation Must be read! exclamation\n",
    "## Return statement\n",
    "***\n",
    "Return statements are used to end a function while returning an expression that can be used later on. However, they are not mandatory and can be left out when unneeded. Syntax:"
   ]
  },
  {
   "cell_type": "code",
   "execution_count": null,
   "metadata": {},
   "outputs": [],
   "source": [
    "return [expression]"
   ]
  },
  {
   "attachments": {},
   "cell_type": "markdown",
   "metadata": {},
   "source": [
    "## Some examples"
   ]
  },
  {
   "cell_type": "code",
   "execution_count": null,
   "metadata": {},
   "outputs": [],
   "source": [
    "def even_odd(num):\n",
    "\n",
    "    '''\n",
    "    Returns \"even\" if num is even, and \"odd\" if num is odd.    \n",
    "    Parameters:\n",
    "        num (int): Any integer    Returns:\n",
    "        type (string): \"even\" if num is even; \"odd\" if num is odd\n",
    "    '''\n",
    "\n",
    "    if num % 2 == 0:\n",
    "        return \"even\"\n",
    "    else:\n",
    "        return \"odd\"\n",
    "\n",
    "print(even_odd(3))"
   ]
  },
  {
   "cell_type": "code",
   "execution_count": null,
   "metadata": {},
   "outputs": [],
   "source": [
    "def find_subtraction(num1, num2=20, print_result=False):\n",
    "    sum_nums = num1 - num2\n",
    "    if print_result:\n",
    "        print(sum_nums)\n",
    "    return sum_nums\n",
    "\n",
    "find_subtraction(20, 50, print_result=True)"
   ]
  },
  {
   "cell_type": "code",
   "execution_count": null,
   "metadata": {},
   "outputs": [],
   "source": [
    "def add_two_numbers(a: int, b: int) -> int:\n",
    "    return a + b\n",
    "\n",
    "number1 = add_two_numbers(1, 1)\n",
    "print(number1)"
   ]
  },
  {
   "attachments": {},
   "cell_type": "markdown",
   "metadata": {},
   "source": [
    " **ATTENTION** exclamation If [expression] is left empty, a **None** type object will be returned while exiting the function"
   ]
  },
  {
   "cell_type": "code",
   "execution_count": null,
   "metadata": {},
   "outputs": [],
   "source": [
    "def check_if_exist(a=None):\n",
    "  if a:\n",
    "    return a\n",
    "  return\n",
    "\n",
    "print(check_if_exist('8'))"
   ]
  },
  {
   "attachments": {},
   "cell_type": "markdown",
   "metadata": {},
   "source": [
    "#### Parameters in Functions:\n",
    "***\n",
    "Parameters, or arguments, are values that you can pass to a function that will determine how a function will get executed. There are different ways on how we can pass the parameters.\n",
    "\n",
    "Positional Parameters: The most common type of passing parameters is by calling a function and passing the parameters in the same position as in the definition of the function. Let’s take an example of a division function:"
   ]
  },
  {
   "cell_type": "code",
   "execution_count": null,
   "metadata": {},
   "outputs": [],
   "source": [
    "def integer_division(num_one, num_two):\n",
    "    return num_one // num_two\n",
    "\n",
    "integer_division(10, 2)"
   ]
  },
  {
   "attachments": {},
   "cell_type": "markdown",
   "metadata": {},
   "source": [
    "Keyword Parameters: We can also pass the parameters in a key=value format when calling a function. This means we don’t require to keep the sequence in mind. Consider the same function as above:"
   ]
  },
  {
   "cell_type": "code",
   "execution_count": null,
   "metadata": {},
   "outputs": [],
   "source": [
    "def integer_division(num_one=10, num_two=2):\n",
    "    return num_one // num_two\n",
    "\n",
    "integer_division(20, 2)"
   ]
  },
  {
   "attachments": {},
   "cell_type": "markdown",
   "metadata": {},
   "source": [
    "##### Short Intro to Type Hints\n",
    "***\n",
    "Type hints, also known as `type` annotations, are completely optional in Python. Yet, there are huge benefits of using them in your code. The type term used in Python refers to the object type. Objects are mainly things containing data and the functions act on that data. As an example; an integer object in python can store integer values and you can perform some tasks with that object, such as doing arithmetic calculations.\n",
    "\n",
    "Objects have strict types. You cannot store a string value in an integer object type as this is not allowed in that specific type. But names we use in our code can point to any object type. You have to spend some time reviewing the code to understand how a specific name can be used if object types are not clearly annotated. This will be a more obvious problem if you have a complex code base.\n",
    "\n",
    "Type hints are introduced with Python 3.5 to address this difficulty. A simple example of the function which add two numbers (without `type` hints):"
   ]
  },
  {
   "cell_type": "code",
   "execution_count": null,
   "metadata": {},
   "outputs": [],
   "source": [
    "def add_two_int_numbers(a,b):\n",
    "  return a + b\n"
   ]
  },
  {
   "attachments": {},
   "cell_type": "markdown",
   "metadata": {},
   "source": [
    "And with type `hints`:"
   ]
  },
  {
   "cell_type": "code",
   "execution_count": 47,
   "metadata": {},
   "outputs": [],
   "source": [
    "def add_two_int_numbers(a: int, b: int) -> int:\n",
    "  return a + b"
   ]
  },
  {
   "attachments": {},
   "cell_type": "markdown",
   "metadata": {},
   "source": [
    "#### Why do you need to use type hints?\n",
    "- Statically typed languages require you to define the types of objects and they can catch errors before run-time. Python is a dynamically typed language and does not force you to do this. This flexibility comes at a cost. When your code base increased, it can be cumbersome to solve runtime TypeErrors if you don’t define the types with type hints.\n",
    "- You need to consider using type hints to help others and yourself. Type hints increase the readability with self-explanatory code.\n",
    "- Type hints also help you to build and maintain a cleaner code architecture as you need to consider types when annotating them in your code.\n",
    "\n",
    "**Some easy-to-follow examples**:\n",
    "\n",
    "**Variable Annotations**: To annotate types of variables, you start with the variable name and continue with the : finally, you provide the data type of the variable."
   ]
  },
  {
   "cell_type": "code",
   "execution_count": null,
   "metadata": {},
   "outputs": [],
   "source": [
    "type_annotation_int: int = 43\n",
    "type_annotation_float: float = 2.54\n",
    "type_annotation_string: str = 'efe'\n",
    "type_annotation_bool: bool = True"
   ]
  },
  {
   "attachments": {},
   "cell_type": "markdown",
   "metadata": {},
   "source": [
    "You can also annotate more complex built-in data types like dicts, lists, and tuples. Before doing this, you need to import (we will learn in another lecture) the typing module."
   ]
  },
  {
   "cell_type": "code",
   "execution_count": null,
   "metadata": {},
   "outputs": [],
   "source": [
    "from typing import List, Tuple\n",
    "Dicttype_annotation_tuple: Tuple[str] = ('1','2','3') # tik string tipo duomenys\n",
    "type_annotation_list: List[str] = ['a', 'b', 'c']   # tik string tipo duomenys\n",
    "type_annotation_dict: Dict[str, int] = {'a': 1, 'b': 2} # keys = string, values = int"
   ]
  },
  {
   "cell_type": "code",
   "execution_count": null,
   "metadata": {},
   "outputs": [],
   "source": [
    "import random\n",
    "from typing import List, Tuple, Dict, Union, Optional\n",
    "\n",
    "def get_random_object() -> Union[int, str, List[str]]:\n",
    "    number = random.randint(0, 3)\n",
    "    if number == 0:\n",
    "        return 0\n",
    "    elif number == 1:\n",
    "        return \"str\"\n",
    "    else:\n",
    "        return [\"1\", \"2\", \"3\"]\n",
    "\n",
    "print(get_random_object())"
   ]
  },
  {
   "cell_type": "code",
   "execution_count": null,
   "metadata": {},
   "outputs": [],
   "source": [
    "from typing import List, Tuple, Dict, Union, Optional\n",
    "\n",
    "def another_function(number: int) -> Optional[int]:\n",
    "    if number > 10:\n",
    "        return number\n",
    "    else:\n",
    "        return None\n",
    "    \n",
    "number1: int = another_function(10)"
   ]
  },
  {
   "attachments": {},
   "cell_type": "markdown",
   "metadata": {},
   "source": [
    "**Combining Datatypes**: If your variable or return type can have one of several different types, you can use Union for type annotation.\n",
    "\n",
    "Pre-Python 3.10 implementation looks like this:"
   ]
  },
  {
   "cell_type": "code",
   "execution_count": null,
   "metadata": {},
   "outputs": [],
   "source": [
    "from typing import List, Dict\n",
    "uniontype_annotation_list: List[Union[float,int]] = [1.23, 3.32, 1, 3]\n",
    "type_annotation_dict: Dict[str, Union[float,int]] = {'a': 1, 'b': 2}"
   ]
  },
  {
   "attachments": {},
   "cell_type": "markdown",
   "metadata": {},
   "source": [
    "The annotation List[Union[float,int]] means that type_annotation_list variable should be a list where each element is either a floating-point or an integer.\n",
    "\n",
    "With Python 3.10, you can replace Union with the new union operator | and you don't need to import anything from typing module:"
   ]
  },
  {
   "cell_type": "code",
   "execution_count": null,
   "metadata": {},
   "outputs": [],
   "source": [
    "type_annotation_list: List[float | int]= [1.23, 3.32, 1, 3]"
   ]
  },
  {
   "attachments": {},
   "cell_type": "markdown",
   "metadata": {},
   "source": [
    "Optional Operator: Optional[???] is short version of Union[???, None], which basically tells that either an object of the specific type is required, or None is required."
   ]
  },
  {
   "cell_type": "code",
   "execution_count": null,
   "metadata": {},
   "outputs": [],
   "source": [
    "type_annotation_list: List[Optional[int]] = [1, 3]"
   ]
  },
  {
   "attachments": {},
   "cell_type": "markdown",
   "metadata": {},
   "source": [
    "This implementation has changed with version 3.10: Optional can now be written as List [int | None]\n",
    "\n",
    "Function Annotations: As previous example, we saw how to add type hints to return type, arguments . Now more complex example:"
   ]
  },
  {
   "cell_type": "code",
   "execution_count": null,
   "metadata": {},
   "outputs": [],
   "source": [
    "from typing import Tuple, Optional\n",
    "\n",
    "def the_func(x: Union[int, float], y: Tuple[str, str], z: Optional[float] = None) -> str:\n",
    "   return 'You called the_func with ' + str(x) + str(y) + str(z)"
   ]
  },
  {
   "attachments": {},
   "cell_type": "markdown",
   "metadata": {},
   "source": [
    "This example shows you that the_func() takes three arguments, x, y, and, z that x can be either an integer or float, y should be tuple storing strings and the z can be either none or float. The return type is str, which you specify using the -> after the ending parentheses but before the colon. information_source"
   ]
  },
  {
   "attachments": {},
   "cell_type": "markdown",
   "metadata": {},
   "source": [
    "### Exercises:"
   ]
  }
 ],
 "metadata": {
  "kernelspec": {
   "display_name": "CA",
   "language": "python",
   "name": "python3"
  },
  "language_info": {
   "codemirror_mode": {
    "name": "ipython",
    "version": 3
   },
   "file_extension": ".py",
   "mimetype": "text/x-python",
   "name": "python",
   "nbconvert_exporter": "python",
   "pygments_lexer": "ipython3",
   "version": "3.10.6"
  },
  "orig_nbformat": 4,
  "vscode": {
   "interpreter": {
    "hash": "7b9b1854771a17f0a04b6bb15075bbf17a502512d3fd688e04baea32a0559fb0"
   }
  }
 },
 "nbformat": 4,
 "nbformat_minor": 2
}
