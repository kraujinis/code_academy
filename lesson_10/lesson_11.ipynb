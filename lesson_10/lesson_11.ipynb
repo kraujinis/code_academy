{
 "cells": [
  {
   "attachments": {},
   "cell_type": "markdown",
   "metadata": {},
   "source": [
    "# Lesson 11: Funkcijos ( Part 2 ) [LTU]\n",
    "***\n",
    "## Tęsinys\n",
    "***\n",
    "Viena iš galingų, tačiau mažiau populiarių \"Python\" funkcijų yra *args ir **kwargs argumentai, lambda funkcija.\n",
    "\n",
    "*args, **kwargs\n",
    "***\n",
    "Taigi, kas yra *args ir **kwargs argumentai? Aukščiausiu lygiu jie leidžia funkcijoms priimti neprivalomus argumentus ir suteikia mums lankstumo kviesti funkciją su bet kokiu argumentų skaičiumi. Todėl juos naudodami galime rašyti lankstesnes klases ir modulius."
   ]
  },
  {
   "cell_type": "code",
   "execution_count": null,
   "metadata": {},
   "outputs": [],
   "source": [
    "def check_arguments(mandatory: Any, *args, **kwargs) -> None:\n",
    "    print (mandatory)\n",
    "    if args:\n",
    "        print (args)\n",
    "    if kvargs:\n",
    "        print (kvargs)"
   ]
  },
  {
   "attachments": {},
   "cell_type": "markdown",
   "metadata": {},
   "source": [
    "Pirmiau pateikta funkcija check_arguments reikalauja bent vieno argumento, vadinamo \"privalomas\", tačiau ji gali priimti ir papildomus pozicinius bei raktinius argumentus. Jei iškviesime funkciją su papildomais argumentais, args surinks papildomus pozicinius argumentus kaip tinklą, nes parametro vardas turi * priešdėlį.\n",
    "\n",
    "Taip pat kwargs surinks papildomus raktinių žodžių argumentus kaip žodyną, nes parametro vardas turi ** priešdėlį. Ir args, ir kwargs bus tušti, jei funkcijai neperduodami jokie papildomi argumentai. Kad suprastume args ir kwargs elgesį, iškvieskime savo check_arguments metodą su skirtingais argumentais:"
   ]
  },
  {
   "cell_type": "code",
   "execution_count": null,
   "metadata": {},
   "outputs": [],
   "source": [
    ">>> check_arguments():\n",
    "TypeError:\n",
    "\"check_arguments() trūksta 1 privalomo pozicinio argumento: 'mandatory'\".\n",
    ">>> check_arguments('welcome')\n",
    "welcome\n",
    "\n",
    ">>> check_arguments('welcome', 1, 2, 3)\n",
    "welcome\n",
    "(1, 2, 3)\n",
    "\n",
    ">>> toy_fun('welcome', 1, 2, 3, name='Sarah', age=26)\n",
    "welcome\n",
    "(1, 2, 3)\n",
    "{\"vardas\": \"Sarah\", \"amžius\": 26}"
   ]
  },
  {
   "attachments": {},
   "cell_type": "markdown",
   "metadata": {},
   "source": [
    "**GERAI ŽINOTI** ``args `ir `kwargs` yra paprasta pavadinimų suteikimo konvencija. Aukščiau pateiktas pavyzdys puikiai veiktų, jei pavadintume juos `parms` ir `**argv` arba bet kaip kitaip. Tikroji sintaksė yra tik žvaigždutė () arba dviguba žvaigždutė ().\n",
    "\n",
    "**DĖMESIO!** Naudodami *args arba **kwargs su kitais parametrais arba naudodami juos kartu, turėtume nepamiršti, kad argumentai turi būti išdėstyti nurodyta tvarka arrow_down .**\n",
    "\n",
    "    1. Formalūs argumentai\n",
    "    2. *args\n",
    "    3. reikšminiai argumentai\n",
    "    4. **kwargs"
   ]
  },
  {
   "cell_type": "code",
   "execution_count": null,
   "metadata": {},
   "outputs": [],
   "source": [
    "def my_func(a:int, b:int, *args, c: int = 5, d: int = 9, **kwargs) -> None:\n",
    "    print (a, b)\n",
    "    print (type(args), args)\n",
    "    print (c, d)\n",
    "    print (type(kwargs), kwargs)\n",
    "\n",
    "my_func(1, 2, 3, 4, 5, e=6, f = 7)"
   ]
  },
  {
   "attachments": {},
   "cell_type": "markdown",
   "metadata": {},
   "source": [
    "## Lambda funkcija\n",
    "***\n",
    "Lambda funkcijos yra anoniminės funkcijos Pythone. Lambda funkcijos yra panašios į įprastas funkcijas. Skirtumas tarp įprastų funkcijų ir lambda funkcijų yra tas, kad jas galima apibrėžti be pavadinimo, tačiau įprastos funkcijos apibrėžiamos raktiniu žodžiu def. lambda raktažodis naudojamas anoniminei arba lambda funkcijai apibrėžti. Jei galėtume palyginti lambda funkciją su įprasta funkcija:\n",
    "\n",
    "- `lambda` funkcija gali priimti bet kokį argumentų skaičių, bet gali turėti tik vieną išraišką, o įprasta funkcija turi tikslų argumentų skaičių, kurį deklaruojame apibrėžimo metu.\n",
    "- `lambda` funkcijos yra vienos eilutės funkcijos. jos kūnas turi išraišką toje pačioje eilutėje, kurioje ji apibrėžiama. Įprastose funkcijose yra kūno blokai, kuriuose apibrėžtos tam tikros vykdomos frazės.\n",
    "- Kadangi `lambda` yra vienos eilutės funkcija, ji gali būti iškviečiama iš karto, o įprastinė funkcija turi pati save iškviesti ir jai iškviesti reikia laiko.\n",
    "Paprasta daugybos funkcija:"
   ]
  },
  {
   "cell_type": "code",
   "execution_count": null,
   "metadata": {},
   "outputs": [],
   "source": [
    "def multiply(x: int,y: int) -> int:\n",
    "    return x * y\n",
    "\n",
    "print(multiply(2,3))"
   ]
  },
  {
   "attachments": {},
   "cell_type": "markdown",
   "metadata": {},
   "source": [
    "galime perrašyti kaip `lambda` funkciją:"
   ]
  },
  {
   "cell_type": "code",
   "execution_count": null,
   "metadata": {},
   "outputs": [],
   "source": [
    "multiplication= lambda x,y : x * y\n",
    "print(multiplication(2,3))"
   ]
  },
  {
   "attachments": {},
   "cell_type": "markdown",
   "metadata": {},
   "source": [
    "Argumentus funkcijai galime perduoti apsupdami funkciją ir jos argumentą skliaustais:"
   ]
  },
  {
   "cell_type": "code",
   "execution_count": null,
   "metadata": {},
   "outputs": [],
   "source": [
    "multiplication= (lambda x,y : x * y)(2,3)\n",
    "print(multiplication)\n"
   ]
  },
  {
   "attachments": {},
   "cell_type": "markdown",
   "metadata": {},
   "source": [
    "Naudojimas\n",
    "Pirmenybė teikiama lambda funkcijai:\n",
    "\n",
    "- Kai norite, kad funkcija būtų naudojama vieną kartą.\n",
    "- Kai funkcijos apibrėžtyje yra viena išraiška.\n",
    "- Kai norite parašyti aiškią sintaksę, turėdami kelias kodo eilutes.\n",
    "\n",
    "Tačiau jis nėra tinkamas:\n",
    "\n",
    "- Kai funkciją reikia naudoti vėl ir vėl.\n",
    "- Kai funkcijos apibrėžtyje yra daug ar sudėtingų išraiškų.\n",
    "\n",
    "## Pratimai:"
   ]
  },
  {
   "attachments": {},
   "cell_type": "markdown",
   "metadata": {},
   "source": [
    "Parašykite funkciją, kuri paima du sąrašus ir prie pirmojo sąrašo pirmojo elemento prideda antrojo sąrašo pirmąjį elementą, antrojo sąrašo antrąjį elementą, antrojo sąrašo antrąjį elementą ir antrojo sąrašo antrąjį elementą. pirmąjį sąrašą su antruoju antrojo sąrašo elementu ir t. t., ir t. t. Grąžinkite True, jei visi elementų deriniai sudaro tą patį skaičių. Priešingu atveju grąžinama False. Pavyzdys:"
   ]
  },
  {
   "cell_type": "code",
   "execution_count": null,
   "metadata": {},
   "outputs": [],
   "source": [
    "puzzle_pieces([1, 2, 3, 4], [4, 3, 2, 1]) ➞ True\n",
    "# 1 + 4 = 5; 2 + 3 = 5; 3 + 2 = 5; 4 + 1 = 5\n",
    "# Abiejų sąrašų suma yra [5, 5, 5, 5, 5]\n",
    "puzzle_pieces([1, 8, 5, 0, -1, 7], [0, -7, -4, 1, 2, -6]) ➞ True\n",
    "puzzle_pieces([1, 2], [-1, -1]) ➞ False\n",
    "puzzle_pieces([9, 8, 7], [7, 8, 9, 10]) ➞ False"
   ]
  },
  {
   "attachments": {},
   "cell_type": "markdown",
   "metadata": {},
   "source": [
    "Tarp lyginių ir nelyginių skaičių vyksta didelis karas. Šiame kare jau žuvo daug skaičių, todėl tavo užduotis - jį nutraukti. Jūs turite nustatyti, kurios grupės sumos didesnės: lyginių ar nelyginių. Laimi didesnė grupė.\n",
    "\n",
    "Sukurkite funkciją, kuri paimtų sveikųjų skaičių sąrašą, atskirai suskaičiuotų lyginių ir nelyginių skaičių sumas, tada grąžintų lyginių ir nelyginių skaičių sumų skirtumą skaičių.\n",
    "\n",
    "Pavyzdys:"
   ]
  },
  {
   "cell_type": "code",
   "execution_count": null,
   "metadata": {},
   "outputs": [],
   "source": [
    "war_of_numbers([2, 8, 7, 5]) ➞ 2\n",
    "# 2 + 8 = 10\n",
    "# 7 + 5 = 12\n",
    "# 12 yra didesnis už 10\n",
    "# Taigi grąžiname 12 - 10 = 2\n",
    "war_of_numbers([12, 90, 75]) ➞ 27\n",
    "war_of_numbers([5, 9, 45, 6, 2, 7, 34, 8, 6, 90, 5, 243]) ➞ 168"
   ]
  },
  {
   "attachments": {},
   "cell_type": "markdown",
   "metadata": {},
   "source": [
    "Jums duotas bigramų masyvas ir žodžių masyvas. Parašykite funkciją, kuri grąžintų True, jei iš šio masyvo galima rasti kiekvieną bigramą bent vieną kartą žodžių masyve.\n",
    "\n",
    "Pavyzdys:"
   ]
  },
  {
   "cell_type": "code",
   "execution_count": null,
   "metadata": {},
   "outputs": [],
   "source": [
    "can_find([[\"at\", \"be\", \"th\", \"au\"], [\"beautiful\", \"the\", \"hat\"]) ➞ True\n",
    "can_find([[\"ay\", \"be\", \"ta\", \"cu\"], [\"maybe\", \"beta\", \"abet\", \"course\"]) ➞ False\n",
    "# \"cu\" nėra nė viename iš žodžių.\n",
    "can_find([\"th\", \"fo\", \"ma\", \"or\"], [\"the\", \"many\", \"for\", \"forest\"]) ➞ True\n",
    "can_find([\"oo\", \"mi\", \"ki\", \"la\"], [\"milk\", \"chocolate\", \"cooks\", \"cooks\"]) ➞ False"
   ]
  },
  {
   "attachments": {},
   "cell_type": "markdown",
   "metadata": {},
   "source": [
    "Iš naujo įgyvendinkite kai kuriuos ankstesnius sprendimus naudodami lambda funkciją."
   ]
  }
 ],
 "metadata": {
  "kernelspec": {
   "display_name": "Python 3",
   "language": "python",
   "name": "python3"
  },
  "language_info": {
   "codemirror_mode": {
    "name": "ipython",
    "version": 3
   },
   "file_extension": ".py",
   "mimetype": "text/x-python",
   "name": "python",
   "nbconvert_exporter": "python",
   "pygments_lexer": "ipython3",
   "version": "3.10.6"
  },
  "orig_nbformat": 4,
  "vscode": {
   "interpreter": {
    "hash": "916dbcbb3f70747c44a77c7bcd40155683ae19c65e1c03b4aa3499c5328201f1"
   }
  }
 },
 "nbformat": 4,
 "nbformat_minor": 2
}
