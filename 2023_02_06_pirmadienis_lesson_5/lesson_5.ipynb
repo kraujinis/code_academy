{
 "cells": [
  {
   "attachments": {},
   "cell_type": "markdown",
   "metadata": {},
   "source": [
    "key = imutible and unical\n",
    "value = can input anything"
   ]
  },
  {
   "cell_type": "code",
   "execution_count": null,
   "metadata": {},
   "outputs": [],
   "source": [
    "my_dictionary = {}\n",
    "my_dictionary[\"name\"] = \"Tom\"\n",
    "print(my_dictionary[\"name\"])"
   ]
  },
  {
   "cell_type": "code",
   "execution_count": null,
   "metadata": {},
   "outputs": [],
   "source": [
    "my_dictionary = {\"name\": \"Tom\"}\n",
    "print(my_dictionary[\"name\"])"
   ]
  },
  {
   "attachments": {},
   "cell_type": "markdown",
   "metadata": {},
   "source": [
    "Changing values in dictionary"
   ]
  },
  {
   "cell_type": "code",
   "execution_count": null,
   "metadata": {},
   "outputs": [],
   "source": [
    "my_dictionary = {\"name\": \"Tom\", \"surname\": \"Edison\"}\n",
    "my_dictionary[\"name\"] = \"Charles\"\n",
    "print(f\"name: {my_dictionary['name']}\")"
   ]
  },
  {
   "cell_type": "code",
   "execution_count": null,
   "metadata": {},
   "outputs": [],
   "source": [
    "countries_and_capitals = {\n",
    "    'Lithuania' : 'Vilnius',\n",
    "    'Poland' : 'Warshaw',\n",
    "    'Latvia' : {\n",
    "        'capital':'Riga',\n",
    "        'population':'20000000',\n",
    "        'rich':{\n",
    "\n",
    "        }\n",
    "    }\n",
    "}\n",
    "\n",
    "print(countries_and_capitals.get('Latvia').get('population'))\n",
    "print(countries_and_capitals['Latvia']['population'])\n",
    "print(countries_and_capitals.items())\n",
    "print(countries_and_capitals.keys())\n",
    "print(countries_and_capitals['Latvia'].keys())\n",
    "print(countries_and_capitals.values())\n",
    "print(countries_and_capitals['Latvia'].values())"
   ]
  },
  {
   "attachments": {},
   "cell_type": "markdown",
   "metadata": {},
   "source": [
    "Dirbant su Dictionary geriau jo nekeist, o pasikeisti į list ir tada dirbti su list."
   ]
  },
  {
   "cell_type": "code",
   "execution_count": 13,
   "metadata": {},
   "outputs": [
    {
     "data": {
      "text/plain": [
       "{'capital': 'Riga', 'population': '20000000', 'rich': {}}"
      ]
     },
     "execution_count": 13,
     "metadata": {},
     "output_type": "execute_result"
    }
   ],
   "source": [
    "countries_and_capitals.pop('Latvia') # ištrinam 'Latvia'"
   ]
  },
  {
   "cell_type": "code",
   "execution_count": null,
   "metadata": {},
   "outputs": [],
   "source": [
    "new_country = {'Spain':'Madrid'}\n",
    "countries_and_capitals.update(new_country)\n",
    "print(countries_and_capitals)"
   ]
  },
  {
   "attachments": {},
   "cell_type": "markdown",
   "metadata": {},
   "source": [
    "Sujungiam du listus"
   ]
  },
  {
   "cell_type": "code",
   "execution_count": null,
   "metadata": {},
   "outputs": [],
   "source": [
    "test_keys = [\"Albert\", \"Tom\", \"Stephen\"]\n",
    "test_values = [1, 4, 5]\n",
    "my_dictionary= dict(zip(test_keys, test_values))\n",
    "print(my_dictionary)"
   ]
  }
 ],
 "metadata": {
  "kernelspec": {
   "display_name": "Python 3",
   "language": "python",
   "name": "python3"
  },
  "language_info": {
   "codemirror_mode": {
    "name": "ipython",
    "version": 3
   },
   "file_extension": ".py",
   "mimetype": "text/x-python",
   "name": "python",
   "nbconvert_exporter": "python",
   "pygments_lexer": "ipython3",
   "version": "3.10.6 (main, Nov 14 2022, 16:10:14) [GCC 11.3.0]"
  },
  "orig_nbformat": 4,
  "vscode": {
   "interpreter": {
    "hash": "916dbcbb3f70747c44a77c7bcd40155683ae19c65e1c03b4aa3499c5328201f1"
   }
  }
 },
 "nbformat": 4,
 "nbformat_minor": 2
}
